{
 "cells": [
  {
   "cell_type": "markdown",
   "metadata": {},
   "source": [
    "# Source localization - Stage1: MRI segmentation\n",
    "- A working installation of freesurfer is needed\n",
    "\n",
    "\n",
    "\n",
    "#### Author\n",
    "Rudi Kreidenhuber <Rudi.Kreidenhuber@gmail.com>\n",
    "#### License\n",
    "BSD (3-clause)"
   ]
  },
  {
   "cell_type": "markdown",
   "metadata": {},
   "source": [
    "# Subject selection + Configuration"
   ]
  },
  {
   "cell_type": "code",
   "execution_count": null,
   "metadata": {},
   "outputs": [],
   "source": [
    "from src import SubjectDropDowner\n",
    "import os\n",
    "import glob\n",
    "\n",
    "input_dir = \"/home/meg/Schreibtisch/new_patients\"  # Top level folder containing MRI files\n",
    "processorcores = 15    # How many CPU cores to use for the computation \n",
    "                        # MEG-Workstation -> use 15\n",
    "                        # at home -> use 1\n",
    "\n",
    "def get_subject_list(input_dir = input_dir) -> list:\n",
    "    analist = glob.glob(os.path.join(input_dir, \"*\"))\n",
    "    analist = [os.path.basename(f) for f in analist if os.path.isdir(f)]\n",
    "    analist = sorted([f for f in analist])\n",
    "    return analist\n",
    "\n",
    "subjectlist = get_subject_list()\n",
    "\n",
    "dl = SubjectDropDowner.SubjectDropDowner(subjectlist)\n",
    "drop_menu = dl.create_subject_dropdown_widget()\n",
    "print(f\"\\n\\nThe following patients/ subjects are available:\")\n",
    "drop_menu"
   ]
  },
  {
   "cell_type": "markdown",
   "metadata": {},
   "source": [
    "# Freesurfer"
   ]
  },
  {
   "cell_type": "code",
   "execution_count": null,
   "metadata": {},
   "outputs": [],
   "source": [
    "subject = dl.get_subject_dropdown().value\n",
    "\n",
    "if not subject.startswith(\"sub-\"):\n",
    "    ject = subject\n",
    "    subject = \"sub-\" + subject\n",
    "else:\n",
    "    subject = subject\n",
    "    ject = subject.replace(\"sub-\", \"\")\n",
    "\n",
    "print(f\"Ject: {ject}, Subject: {subject}\")\n",
    "\n",
    "def get_dicom_file(subject) -> str:\n",
    "    if not os.path.isdir(os.path.join(input_dir, ject)):\n",
    "        print(f\"No anatomical data found for {subject}, aborting\\n\\n\")\n",
    "        raise(FileNotFoundError)\n",
    "    else:\n",
    "        dicom_path = os.path.join(input_dir, subject, \"1*\", \"100*\", \"1*\", \"*\")\n",
    "        dicom = str(glob.glob(dicom_path, recursive=True)[0])\n",
    "        dicom = os.path.abspath(dicom)\n",
    "        return dicom\n",
    "\n",
    "def get_dicom_path(subject) -> str:\n",
    "    dicom = get_dicom_file(subject)\n",
    "    return dicom\n",
    "\n",
    "def get_watershed_comand(subject) -> str:\n",
    "    return f'python -c \"import mne; mne.bem.make_watershed_bem(subject=\\'{subject}\\')\"'\n",
    "\n",
    "def get_recon_all_command(ject) -> str:\n",
    "    dicom = get_dicom_path(ject)\n",
    "    subject = \"sub-\" + ject\n",
    "    command = f\"recon-all -s {subject} -i {dicom} -all -openmp {processorcores} && segmentHA_T1.sh {subject} && {get_watershed_comand(subject)}\" \n",
    "    return command\n",
    "\n",
    "command = get_recon_all_command(ject)\n",
    "\n",
    "print(f\"\\n\\nExecute the following command in the bash shell:\\n \\\n",
    "      (This will take hours...)\\n\\n{command}\\n\\n\")"
   ]
  }
 ],
 "metadata": {
  "kernelspec": {
   "display_name": "Python 3 (ipykernel)",
   "language": "python",
   "name": "python3"
  },
  "language_info": {
   "codemirror_mode": {
    "name": "ipython",
    "version": 3
   },
   "file_extension": ".py",
   "mimetype": "text/x-python",
   "name": "python",
   "nbconvert_exporter": "python",
   "pygments_lexer": "ipython3",
   "version": "3.9.7"
  },
  "vscode": {
   "interpreter": {
    "hash": "efac0460eee90c397688410beb991c05e0e16af2b500d70dd2ead6bd85f721dc"
   }
  }
 },
 "nbformat": 4,
 "nbformat_minor": 4
}