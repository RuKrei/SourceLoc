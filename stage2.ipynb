{
 "cells": [
  {
   "cell_type": "markdown",
   "metadata": {},
   "source": [
    "# Source localization pipeline - Stage2\n",
    "- coregistration\n",
    "- source localization\n",
    "- report generation\n",
    " \n",
    " \n",
    "\n",
    "\n",
    "#### Author\n",
    "Rudi Kreidenhuber <Rudi.Kreidenhuber@gmail.com>\n",
    "#### License\n",
    "BSD (3-clause)"
   ]
  },
  {
   "cell_type": "markdown",
   "metadata": {},
   "source": [
    "# Coregistration"
   ]
  },
  {
   "cell_type": "code",
   "execution_count": null,
   "metadata": {},
   "outputs": [],
   "source": [
    "from src import SubjectDropDowner\n",
    "import os\n",
    "import glob\n",
    "import mne\n",
    "from mne_bids import BIDSPath\n",
    "from src import Folderer, Anatomist\n",
    "\n",
    "# configuration\n",
    "input_dir = \"/home/meg/Schreibtisch/new_patients/processed\"\n",
    "bids_root = \"/run/media/meg/DATA/MEG/BIDS_clinic\"\n",
    "n_jobs = openmp = 30\n",
    "extras_directory = os.path.join(input_dir, \"extras\")\n",
    "FS_SUBJECTS_DIR = \"/usr/local/freesurfer/subjects/\"\n",
    "spacing = \"ico4\"\n",
    "\n",
    "print(\"Configuration:\")\n",
    "for dir in [input_dir, bids_root, extras_directory, FS_SUBJECTS_DIR]:\n",
    "    print(f\"{dir}\")\n",
    "\n",
    "\n",
    "def get_subject_list(input_dir = input_dir) -> list:\n",
    "    fiflist = [os.path.basename(f) for f in glob.glob(os.path.join(input_dir, \"*.fif\"))]\n",
    "    fiflist = [f.split(\"_\")[0] for f in fiflist]\n",
    "    print(fiflist)\n",
    "    return fiflist\n",
    "\n",
    "subjectlist = get_subject_list()\n",
    "\n",
    "dl = SubjectDropDowner.SubjectDropDowner(subjectlist)\n",
    "drop_menu = dl.create_subject_dropdown_widget()\n",
    "print(f\"\\n\\nChoose patient/ subject to process further:\")\n",
    "drop_menu"
   ]
  },
  {
   "cell_type": "code",
   "execution_count": null,
   "metadata": {},
   "outputs": [],
   "source": [
    "subject = dl.get_subject_dropdown().value\n",
    "\n",
    "if not subject.startswith(\"sub-\"):\n",
    "    subject = \"sub-\" + subject\n",
    "\n",
    "print(f\"Chosen Subject: {subject}\")\n",
    "\n",
    "# create output folders\n",
    "dfc = Folderer.DerivativesFoldersCreator(BIDS_root=bids_root, \n",
    "                                            extras_directory=extras_directory, \n",
    "                                            subject=subject)\n",
    "dfc.make_derivatives_folders()\n",
    "\n",
    "# copy freesurfer files to local subjects_dir\n",
    "try:\n",
    "    segmentation = os.path.join(os.path.abspath(FS_SUBJECTS_DIR), subject)\n",
    "    target = os.path.join(dfc.fanat, subject)\n",
    "    if not os.path.isdir(target):\n",
    "        os.mkdir(target)\n",
    "    dfc._recursive_overwrite(segmentation, target)\n",
    "except Exception as e:\n",
    "    print(f\"Couldn't copy freesurfer segmentation\\n--> {e}.\")\n",
    "    \n",
    "# create source models\n",
    "#sourcerer = Anatomist.SourceModeler(subjects_dir=dfc.fanat, subject=subject, spacing=spacing, n_jobs=n_jobs)\n",
    "#sourcerer.calculate_source_models()"
   ]
  },
  {
   "cell_type": "markdown",
   "metadata": {},
   "source": [
    "# Coregistration"
   ]
  },
  {
   "cell_type": "code",
   "execution_count": null,
   "metadata": {},
   "outputs": [],
   "source": [
    "transfile = os.path.join(dfc.ftrans, subject + \"-trans.fif\")\n",
    "print(\"Starting coregistration...\")\n",
    "if os.path.isfile(transfile):\n",
    "    print(f\"Skipping coregistration, because a transfile ({transfile}) already exists\")\n",
    "else:\n",
    "    print(f\"\\n\\n\\n--> Transfile should be called: {transfile}\\n\\n\\n\")\n",
    "    try:\n",
    "        rawfile = os.path.join(input_dir, subject + \"_prepped.fif\")\n",
    "        mne.gui.coregistration(subject=subject, subjects_dir=dfc.fanat, inst=rawfile, block=True)\n",
    "    except Exception as e:\n",
    "        print(f\"Failed launching Coregistration: {e}\")"
   ]
  },
  {
   "cell_type": "markdown",
   "metadata": {},
   "source": [
    "# Frequency"
   ]
  },
  {
   "cell_type": "code",
   "execution_count": null,
   "metadata": {},
   "outputs": [],
   "source": []
  },
  {
   "cell_type": "code",
   "execution_count": null,
   "metadata": {},
   "outputs": [],
   "source": []
  },
  {
   "cell_type": "code",
   "execution_count": null,
   "metadata": {},
   "outputs": [],
   "source": []
  },
  {
   "cell_type": "code",
   "execution_count": null,
   "metadata": {},
   "outputs": [],
   "source": []
  }
 ],
 "metadata": {
  "kernelspec": {
   "display_name": "Python 3 (ipykernel)",
   "language": "python",
   "name": "python3"
  },
  "language_info": {
   "codemirror_mode": {
    "name": "ipython",
    "version": 3
   },
   "file_extension": ".py",
   "mimetype": "text/x-python",
   "name": "python",
   "nbconvert_exporter": "python",
   "pygments_lexer": "ipython3",
   "version": "3.10.6"
  },
  "vscode": {
   "interpreter": {
    "hash": "efac0460eee90c397688410beb991c05e0e16af2b500d70dd2ead6bd85f721dc"
   }
  }
 },
 "nbformat": 4,
 "nbformat_minor": 4
}
