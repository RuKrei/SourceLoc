{
 "cells": [
  {
   "cell_type": "markdown",
   "metadata": {},
   "source": [
    "# Source localization pipeline - Stage2\n",
    "- coregistration\n",
    "- source localization\n",
    "- report generation\n",
    " \n",
    " \n",
    "\n",
    "\n",
    "#### Author\n",
    "Rudi Kreidenhuber <Rudi.Kreidenhuber@gmail.com>\n",
    "#### License\n",
    "BSD (3-clause)"
   ]
  },
  {
   "cell_type": "markdown",
   "metadata": {},
   "source": [
    "# Coregistration"
   ]
  },
  {
   "cell_type": "code",
   "execution_count": 1,
   "metadata": {},
   "outputs": [
    {
     "name": "stdout",
     "output_type": "stream",
     "text": [
      "Configuration:\n",
      "/home/meg/Schreibtisch/new_patients/processed\n",
      "/run/media/meg/DATA/MEG/BIDS_clinic/derivatives\n",
      "/home/meg/Schreibtisch/new_patients/processed/extras\n",
      "/usr/local/freesurfer/subjects/\n",
      "['sub-AO12091991', 'sub-PA27111988', 'sub-PG05071961', 'sub-VA09051993']\n",
      "\n",
      "\n",
      "Choose patient/ subject to process further:\n"
     ]
    },
    {
     "data": {
      "application/vnd.jupyter.widget-view+json": {
       "model_id": "78ca8878291040c299a24b248279898f",
       "version_major": 2,
       "version_minor": 0
      },
      "text/plain": [
       "VBox(children=(Dropdown(description='Subject: ', layout=Layout(width='auto'), options=('sub-AO12091991', 'sub-…"
      ]
     },
     "execution_count": 1,
     "metadata": {},
     "output_type": "execute_result"
    }
   ],
   "source": [
    "from src import SubjectDropDowner\n",
    "import os\n",
    "import glob\n",
    "import mne\n",
    "\n",
    "# configuration\n",
    "input_dir = \"/home/meg/Schreibtisch/new_patients/processed\"\n",
    "bids_root = \"/run/media/meg/DATA/MEG/BIDS_clinic/derivatives\"\n",
    "n_jobs = openmp = 30\n",
    "extras_directory = os.path.join(input_dir, \"extras\")\n",
    "FS_SUBJECTS_DIR = \"/usr/local/freesurfer/subjects/\"\n",
    "spacing = \"ico4\"\n",
    "\n",
    "print(\"Configuration:\")\n",
    "for dir in [input_dir, bids_root, extras_directory, FS_SUBJECTS_DIR]:\n",
    "    print(f\"{dir}\")\n",
    "\n",
    "\n",
    "def get_subject_list(input_dir = input_dir) -> list:\n",
    "    fiflist = [os.path.basename(f) for f in glob.glob(os.path.join(input_dir, \"*.fif\"))]\n",
    "    fiflist = [f.split(\"_\")[0] for f in fiflist]\n",
    "    print(fiflist)\n",
    "    return fiflist\n",
    "\n",
    "subjectlist = get_subject_list()\n",
    "\n",
    "dl = SubjectDropDowner.SubjectDropDowner(subjectlist)\n",
    "drop_menu = dl.create_subject_dropdown_widget()\n",
    "print(f\"\\n\\nChoose patient/ subject to process further:\")\n",
    "drop_menu"
   ]
  },
  {
   "cell_type": "code",
   "execution_count": 2,
   "metadata": {},
   "outputs": [
    {
     "name": "stdout",
     "output_type": "stream",
     "text": [
      "Chosen Subject: sub-VA09051993\n"
     ]
    }
   ],
   "source": [
    "subject = dl.get_subject_dropdown().value\n",
    "\n",
    "if not subject.startswith(\"sub-\"):\n",
    "    subject = \"sub-\" + subject\n",
    "    \n",
    "print(f\"Chosen Subject: {subject}\")\n",
    "\n"
   ]
  },
  {
   "cell_type": "code",
   "execution_count": 4,
   "metadata": {},
   "outputs": [
    {
     "name": "stdout",
     "output_type": "stream",
     "text": [
      "Starting coregistration...\n",
      "\n",
      "\n",
      "\n",
      "--> Transfile should be called: /run/media/meg/DATA/MEG/BIDS_clinic/derivatives/derivatives/sub-VA09051993/trans_files/sub-VA09051993-trans.fif\n",
      "\n",
      "\n",
      "\n",
      "    Triangle neighbors and vertex normals...\n",
      "Using low resolution head model in /run/media/meg/DATA/MEG/BIDS_clinic/derivatives/derivatives/sub-VA09051993/freesurfer/sub-VA09051993/bem/outer_skin.surf\n",
      "    Triangle neighbors and vertex normals...\n",
      "Estimating fiducials from fsaverage.\n",
      "    Triangle neighbors and vertex normals...\n",
      "Using low resolution head model in /run/media/meg/DATA/MEG/BIDS_clinic/derivatives/derivatives/sub-VA09051993/freesurfer/sub-VA09051993/bem/outer_skin.surf\n",
      "    Triangle neighbors and vertex normals...\n",
      "Estimating fiducials from fsaverage.\n",
      "Estimating fiducials from fsaverage.\n"
     ]
    },
    {
     "name": "stderr",
     "output_type": "stream",
     "text": [
      "/tmp/ipykernel_392106/4038135225.py:31: RuntimeWarning: The parameter advanced_rendering is not supported with the pyvistaqt 3d backend. It will be ignored.\n",
      "  mne.gui.coregistration(subject=subject, subjects_dir=dfc.fanat, inst=bids_root, advanced_rendering=False) # BIDS: inst=raw.filenames[0])\n"
     ]
    },
    {
     "name": "stdout",
     "output_type": "stream",
     "text": [
      "Placing MRI fiducials - LPA\n",
      "Using outer_skin.surf for head surface.\n",
      "Placing MRI fiducials - LPA\n",
      "Using outer_skin.surf for head surface.\n",
      "Channel types::\teeg: 64\n",
      "Getting helmet for system 306m\n",
      "Aligning using fiducials\n",
      "Start median distance:  12.99 mm\n",
      "End   median distance:   4.69 mm\n",
      "Fitting fiducials finished in 0.01 seconds.\n",
      "Channel types::\teeg: 64\n",
      "Aligning using ICP\n",
      "Start     median distance:   4.69 mm\n",
      "  ICP  1  median distance:   3.78 mm\n",
      "Fitting ICP - iteration 1\n",
      "Channel types::\teeg: 64\n",
      "  ICP  2  median distance:   3.27 mm\n",
      "Fitting ICP - iteration 2\n",
      "Channel types::\teeg: 64\n",
      "  ICP  3  median distance:   2.99 mm\n",
      "Fitting ICP - iteration 3\n",
      "Channel types::\teeg: 64\n",
      "  ICP  4  median distance:   2.88 mm\n",
      "Fitting ICP - iteration 4\n",
      "Channel types::\teeg: 64\n",
      "  ICP  5  median distance:   2.84 mm\n",
      "Fitting ICP - iteration 5\n",
      "Channel types::\teeg: 64\n",
      "End       median distance:   2.84 mm\n",
      "Fitting ICP finished in 1.59 seconds and 5 iterations.\n",
      "Channel types::\teeg: 64\n",
      "Channel types::\teeg: 64\n",
      "Channel types::\teeg: 64\n",
      "Channel types::\teeg: 64\n",
      "Channel types::\teeg: 64\n",
      "Channel types::\teeg: 64\n",
      "Channel types::\teeg: 64\n",
      "Channel types::\teeg: 64\n",
      "Channel types::\teeg: 64\n",
      "Channel types::\teeg: 64\n",
      "/run/media/meg/DATA/MEG/BIDS_clinic/derivatives/sub-VA09051993/trans_files/sub-VA09051993-trans.fif transform file is saved.\n"
     ]
    }
   ],
   "source": [
    "from src import Folderer, Anatomist\n",
    "\n",
    "# create output folders\n",
    "dfc = Folderer.DerivativesFoldersCreator(BIDS_root=bids_root, \n",
    "                                            extras_directory=extras_directory, \n",
    "                                            subject=subject)\n",
    "dfc.make_derivatives_folders()\n",
    "\n",
    "# copy freesurfer files to local subjects_dir\n",
    "try:\n",
    "    segmentation = os.path.join(os.path.abspath(FS_SUBJECTS_DIR), subject)\n",
    "    target = os.path.join(dfc.fanat, subject)\n",
    "    if not os.path.isdir(target):\n",
    "        os.mkdir(target)\n",
    "    dfc._recursive_overwrite(segmentation, target)\n",
    "except Exception as e:\n",
    "    print(f\"Couldn't copy freesurfer segmentation\\n--> {e}.\")\n",
    "    \n",
    "# create source models\n",
    "#sourcerer = Anatomist.SourceModeler(subjects_dir=dfc.fanat, subject=subject, spacing=spacing, n_jobs=n_jobs)\n",
    "#sourcerer.calculate_source_models()\n",
    "\n",
    "\n",
    "transfile = os.path.join(dfc.ftrans, subject + \"-trans.fif\")\n",
    "print(\"Starting coregistration...\")\n",
    "if os.path.isfile(transfile):\n",
    "    print(f\"Skipping coregistration, because a transfile ({transfile}) already exists\")\n",
    "else:\n",
    "    print(f\"\\n\\n\\n--> Transfile should be called: {transfile}\\n\\n\\n\")\n",
    "    try:\n",
    "        mne.gui.coregistration(subject=subject, subjects_dir=dfc.fanat, inst=bids_root, advanced_rendering=False) # BIDS: inst=raw.filenames[0])\n",
    "    except:\n",
    "        print(\"failed with bids_derivatives folder\")\n",
    "        filename = subject + \"_prepped.fif\"\n",
    "        rawfile = os.path.join(input_dir, \"processed\", filename)\n",
    "        print(f\"Coregistration - rawfile used was: {rawfile}\")\n",
    "        mne.gui.coregistration(subject=subject, subjects_dir=dfc.fanat, inst=rawfile, advanced_rendering=False)"
   ]
  },
  {
   "cell_type": "code",
   "execution_count": null,
   "metadata": {},
   "outputs": [],
   "source": []
  }
 ],
 "metadata": {
  "kernelspec": {
   "display_name": "Python 3 (ipykernel)",
   "language": "python",
   "name": "python3"
  },
  "language_info": {
   "codemirror_mode": {
    "name": "ipython",
    "version": 3
   },
   "file_extension": ".py",
   "mimetype": "text/x-python",
   "name": "python",
   "nbconvert_exporter": "python",
   "pygments_lexer": "ipython3",
   "version": "3.10.6"
  },
  "vscode": {
   "interpreter": {
    "hash": "efac0460eee90c397688410beb991c05e0e16af2b500d70dd2ead6bd85f721dc"
   }
  }
 },
 "nbformat": 4,
 "nbformat_minor": 2
}
