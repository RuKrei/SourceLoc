{
 "metadata": {
  "language_info": {
   "codemirror_mode": {
    "name": "ipython",
    "version": 3
   },
   "file_extension": ".py",
   "mimetype": "text/x-python",
   "name": "python",
   "nbconvert_exporter": "python",
   "pygments_lexer": "ipython3",
   "version": "3.8.5-final"
  },
  "orig_nbformat": 2,
  "kernelspec": {
   "name": "python38564bitmegdevconda3e1ed7ab1e354734bdec2f4372337349",
   "display_name": "Python 3.8.5 64-bit ('MEG_dev': conda)",
   "language": "python"
  }
 },
 "nbformat": 4,
 "nbformat_minor": 2,
 "cells": [
  {
   "source": [
    "----\n",
    "# Visualizer\n",
    "----\n",
    "\n",
    "Use this notebook to: \n",
    "- visualize .stcs\n",
    "- generate custom screenshots\n",
    "- generate custom time series\n"
   ],
   "cell_type": "markdown",
   "metadata": {}
  },
  {
   "cell_type": "code",
   "execution_count": null,
   "metadata": {},
   "outputs": [],
   "source": [
    "import mne\n",
    "from nilearn import plotting as nlplotting\n",
    "import os\n",
    "import glob\n",
    "import pandas as pd\n",
    "import numpy as np\n",
    "from mayavi import mlab\n",
    "import matplotlib.pyplot as plt\n",
    "import matplotlib.image as mpimg\n",
    "from configuration import subjects, subjects_dir, derivatives_root, n_jobs\n",
    "\n",
    "os.environ['ETS_TOOLKIT'] = 'qt4'\n",
    "os.environ['QT_API'] = 'pyqt5'\n",
    "mne.viz.set_3d_backend('pyvista')\n",
    "\n",
    "subsubj = \"sub-\" + str(subjects[0])\n",
    "\n",
    "base_dir = os.path.join(derivatives_root, subsubj)\n",
    "eventfolders = glob.glob(base_dir + \"/spikes/*\")\n",
    "eventnames = list(map(lambda e: e.split(\"/\")[-1], eventfolders))\n",
    "modalities = [\"eLORETA_with_peaks\", \"dSPM\"]\n",
    "eventdict = dict()\n",
    "\n",
    "for ef in eventfolders:\n",
    "    e = ef.split(\"/\")[-1]\n",
    "    stcs = glob.glob(ef +\"/stc_*\")\n",
    "    mod_and_file = dict()\n",
    "    for s in stcs:\n",
    "        for m in modalities:\n",
    "            if m in s:\n",
    "                mod_and_file[m] = s\n",
    "        eventdict[e] = mod_and_file\n",
    "\n",
    "df = pd.DataFrame.from_dict(eventdict, orient='index')\n",
    "df"
   ]
  },
  {
   "cell_type": "code",
   "execution_count": null,
   "metadata": {},
   "outputs": [],
   "source": [
    "df.iloc[1,1]"
   ]
  },
  {
   "source": [
    "## Configuration\n",
    "### Use the table from above, line-number = event-number (index starts at 0)"
   ],
   "cell_type": "markdown",
   "metadata": {}
  },
  {
   "cell_type": "code",
   "execution_count": null,
   "metadata": {},
   "outputs": [],
   "source": [
    "event_number    = 0      # Event (= line)\n",
    "index           = 1      # Modality (= row)\n",
    "\n",
    "\n",
    "#hemi = 'rh'           #right hemisphere\n",
    "hemi = 'lh'           #left hemisphere\n",
    "#hemi = 'split'        #both hemispheres in split view\n",
    "#hemi = 'both'         #both hemispheres in anatomical view\n",
    "\n",
    "views = ['lateral']\n",
    "#views = ['medial']\n",
    "#views = ['rostral']\n",
    "#views = ['caudal']\n",
    "#views = ['ventral']\n",
    "#views = ['dorsal']\n",
    "#views = ['lateral', 'medial']   # --> show lateral + medial simultaneously\n",
    "#views = ['ventral', 'dorsal']\n",
    "#views = ['lateral', 'medial', 'ventral', 'dorsal']"
   ]
  },
  {
   "source": [
    "## Visualization"
   ],
   "cell_type": "markdown",
   "metadata": {}
  },
  {
   "cell_type": "code",
   "execution_count": null,
   "metadata": {},
   "outputs": [],
   "source": [
    "stc = mne.read_source_estimate(df.iloc[event_number][index], subject=subsubj)\n",
    "\n",
    "surfer_kwargs = dict(\n",
    "    hemi=hemi, subjects_dir=subjects_dir,\n",
    "    clim=dict(kind='percent', lims=[85, 97, 99]), \n",
    "    #clim=dict(kind='value', lims=[1e-12, 4.5e-12, 8e-12]),\n",
    "    views=views,\n",
    "    time_unit='ms', size=(1100, 800),\n",
    "    smoothing_steps=7)\n",
    "\n",
    "brain = stc.plot(initial_time=0., **surfer_kwargs)\n",
    "file_name = df.iloc[event_number][index]\n",
    "file_name = file_name.split('-rh')[0]\n",
    "file_name = file_name.split('-lh')[0]\n",
    "file_name = file_name.split(\"/\")[-1]\n",
    "text_to_add = str(file_name)\n",
    "brain.add_text(0.1, 0.9, text_to_add, 'title', font_size=10)"
   ]
  },
  {
   "source": [
    "----\n",
    "### visualization thresholds"
   ],
   "cell_type": "markdown",
   "metadata": {}
  },
  {
   "cell_type": "code",
   "execution_count": null,
   "metadata": {},
   "outputs": [],
   "source": [
    "# Enter clim thresholds,  1.25e-3  translates to 0.00125\n",
    "\n",
    "high     = 7e-11\n",
    "medium   = 5e-11\n",
    "low      = 1e-11"
   ]
  },
  {
   "source": [
    "----\n",
    "----\n",
    "###    Don't touch code from here, unless you know what you are doing..."
   ],
   "cell_type": "markdown",
   "metadata": {}
  },
  {
   "source": [
    "## Save custom time series"
   ],
   "cell_type": "markdown",
   "metadata": {}
  },
  {
   "cell_type": "code",
   "execution_count": null,
   "metadata": {},
   "outputs": [],
   "source": [
    "surfer_kwargs = dict(\n",
    "    hemi=hemi, subjects_dir=subjects_dir,\n",
    "    clim=dict(kind='value', lims=[low, medium, high]),\n",
    "    views=views,\n",
    "    time_unit='ms', size=(800, 800),\n",
    "    smoothing_steps=7)\n",
    "\n",
    "times = np.linspace(-20, 5, 6)\n",
    "print(times)\n",
    "\n",
    "brains = dict()\n",
    "time_dict = {\n",
    "            -20.0: 'a-m20',\n",
    "            -15.0: 'b-m15',\n",
    "            -10.0: 'c-m10',\n",
    "            -5.0 : 'd-m5',\n",
    "            -0.0 : 'e-m0',\n",
    "             5.0 : 'f-p5'}\n",
    "\n",
    "event_name = df.index[event_number]\n",
    "save_directory = os.path.join(base_dir, \"spikes\", event_name, \"custom_time_series\")\n",
    "modality = df.columns[index]\n",
    "\n",
    "for time in times:\n",
    "    brains[time] = stc.plot(initial_time=time, **surfer_kwargs)\n",
    "    brain_label = str(text_to_add + ' @ ' + str(time) + 'ms')\n",
    "    brains[time].add_text(0.1, 0.9, brain_label, 'title', font_size=10)\n",
    "    text_to_add = str((df.iloc[event_number][index]).split(\"/\")[-1])\n",
    "    custom_pic_name = (event_name + '-' + modality + '-at-' + time_dict[time] + '.png')\n",
    "    custom_pic = os.path.join(save_directory, custom_pic_name)\n",
    "    brains[time].save_image(custom_pic)\n",
    "    brains[time].close()"
   ]
  },
  {
   "source": [
    "To do:\n",
    "\n",
    "--> subsubj = \"sub-\" + str(subjects[0])\n",
    "subjectname shoud be inferred from folder (10_visualizer.ipynb later will be moved to derivatives/subject) - no more need to unpack lists + works with multiple subjects..."
   ],
   "cell_type": "markdown",
   "metadata": {}
  }
 ]
}