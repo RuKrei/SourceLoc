{
 "metadata": {
  "language_info": {
   "codemirror_mode": {
    "name": "ipython",
    "version": 3
   },
   "file_extension": ".py",
   "mimetype": "text/x-python",
   "name": "python",
   "nbconvert_exporter": "python",
   "pygments_lexer": "ipython3",
   "version": "3.8.5-final"
  },
  "orig_nbformat": 2,
  "kernelspec": {
   "name": "python38564bitmegdevconda3e1ed7ab1e354734bdec2f4372337349",
   "display_name": "Python 3.8.5 64-bit ('MEG_dev': conda)",
   "language": "python"
  }
 },
 "nbformat": 4,
 "nbformat_minor": 2,
 "cells": [
  {
   "source": [
    "----\n",
    "# Visualizer\n",
    "----\n",
    "\n",
    "Use this notebook to: \n",
    "- visualize .stcs\n",
    "- generate custom screenshots\n",
    "- generate custom time series\n"
   ],
   "cell_type": "markdown",
   "metadata": {}
  },
  {
   "cell_type": "code",
   "execution_count": 27,
   "metadata": {},
   "outputs": [
    {
     "output_type": "execute_result",
     "data": {
      "text/plain": [
       "                                                         dSPM  \\\n",
       "Spike_Gr_1  /home/idrael/DATA/MEG/SourceLocTest/BIDSTestDa...   \n",
       "Wickets     /home/idrael/DATA/MEG/SourceLocTest/BIDSTestDa...   \n",
       "\n",
       "                                           eLORETA_with_peaks  \n",
       "Spike_Gr_1  /home/idrael/DATA/MEG/SourceLocTest/BIDSTestDa...  \n",
       "Wickets     /home/idrael/DATA/MEG/SourceLocTest/BIDSTestDa...  "
      ],
      "text/html": "<div>\n<style scoped>\n    .dataframe tbody tr th:only-of-type {\n        vertical-align: middle;\n    }\n\n    .dataframe tbody tr th {\n        vertical-align: top;\n    }\n\n    .dataframe thead th {\n        text-align: right;\n    }\n</style>\n<table border=\"1\" class=\"dataframe\">\n  <thead>\n    <tr style=\"text-align: right;\">\n      <th></th>\n      <th>dSPM</th>\n      <th>eLORETA_with_peaks</th>\n    </tr>\n  </thead>\n  <tbody>\n    <tr>\n      <th>Spike_Gr_1</th>\n      <td>/home/idrael/DATA/MEG/SourceLocTest/BIDSTestDa...</td>\n      <td>/home/idrael/DATA/MEG/SourceLocTest/BIDSTestDa...</td>\n    </tr>\n    <tr>\n      <th>Wickets</th>\n      <td>/home/idrael/DATA/MEG/SourceLocTest/BIDSTestDa...</td>\n      <td>/home/idrael/DATA/MEG/SourceLocTest/BIDSTestDa...</td>\n    </tr>\n  </tbody>\n</table>\n</div>"
     },
     "metadata": {},
     "execution_count": 27
    }
   ],
   "source": [
    "import mne\n",
    "from nilearn import plotting as nlplotting\n",
    "import os\n",
    "import glob\n",
    "import pandas as pd\n",
    "import numpy as np\n",
    "from mayavi import mlab\n",
    "import matplotlib.pyplot as plt\n",
    "import matplotlib.image as mpimg\n",
    "from configuration import subjects, subjects_dir, derivatives_root, n_jobs\n",
    "\n",
    "os.environ['ETS_TOOLKIT'] = 'qt4'\n",
    "os.environ['QT_API'] = 'pyqt5'\n",
    "mne.viz.set_3d_backend('pyvista')\n",
    "\n",
    "subsubj = \"sub-\" + str(subjects[0])\n",
    "\n",
    "base_dir = os.path.join(derivatives_root, subsubj)\n",
    "eventfolders = glob.glob(base_dir + \"/spikes/*\")\n",
    "eventnames = list(map(lambda e: e.split(\"/\")[-1], eventfolders))\n",
    "modalities = [\"eLORETA_with_peaks\", \"dSPM\"]\n",
    "eventdict = dict()\n",
    "\n",
    "for ef in eventfolders:\n",
    "    e = ef.split(\"/\")[-1]\n",
    "    stcs = glob.glob(ef +\"/stc_*\")\n",
    "    mod_and_file = dict()\n",
    "    for s in stcs:\n",
    "        for m in modalities:\n",
    "            if m in s:\n",
    "                mod_and_file[m] = s\n",
    "        eventdict[e] = mod_and_file\n",
    "\n",
    "df = pd.DataFrame.from_dict(eventdict, orient='index')\n",
    "df"
   ]
  },
  {
   "source": [
    "## Configuration\n",
    "### Use the table from above, line-number = event-number (index starts at 0)"
   ],
   "cell_type": "markdown",
   "metadata": {}
  },
  {
   "cell_type": "code",
   "execution_count": 30,
   "metadata": {},
   "outputs": [],
   "source": [
    "event_number    = 0      # Event (= line)\n",
    "index           = 1      # Modality (= row)\n",
    "\n",
    "\n",
    "#hemi = 'rh'           #right hemisphere\n",
    "#hemi = 'lh'           #left hemisphere\n",
    "hemi = 'split'        #both hemispheres in split view\n",
    "#hemi = 'both'         #both hemispheres in anatomical view\n",
    "\n",
    "views = ['lateral']\n",
    "#views = ['medial']\n",
    "#views = ['rostral']\n",
    "#views = ['caudal']\n",
    "#views = ['ventral']\n",
    "#views = ['dorsal']\n",
    "#views = ['lateral', 'medial']   # --> show lateral + medial simultaneously\n",
    "#views = ['ventral', 'dorsal']\n",
    "#views = ['lateral', 'medial', 'ventral', 'dorsal']"
   ]
  },
  {
   "source": [
    "## Visualization\n",
    "###    Don't touch from here, unless you know what you are doing :-)"
   ],
   "cell_type": "markdown",
   "metadata": {}
  },
  {
   "cell_type": "code",
   "execution_count": 31,
   "metadata": {},
   "outputs": [
    {
     "output_type": "stream",
     "name": "stdout",
     "text": [
      "Using control points [2.47499384e-11 3.92371449e-11 4.81302925e-11]\n"
     ]
    }
   ],
   "source": [
    "stc = mne.read_source_estimate(df.iloc[event_number][index], subject=subsubj)\n",
    "\n",
    "surfer_kwargs = dict(\n",
    "    hemi=hemi, subjects_dir=subjects_dir,\n",
    "    clim=dict(kind='percent', lims=[85, 97, 99]), \n",
    "    #clim=dict(kind='value', lims=[1e-12, 4.5e-12, 8e-12]),\n",
    "    views=views,\n",
    "    time_unit='ms', size=(800, 800),\n",
    "    smoothing_steps=7)\n",
    "\n",
    "brain = stc.plot(initial_time=0., **surfer_kwargs)\n",
    "file_name = df.iloc[event_number][index]\n",
    "file_name = file_name.split('-rh')[0]\n",
    "file_name = file_name.split('-lh')[0]\n",
    "text_to_add = str(file_name)\n",
    "brain.add_text(0.1, 0.9, text_to_add, 'title', font_size=10)"
   ]
  },
  {
   "cell_type": "code",
   "execution_count": null,
   "metadata": {},
   "outputs": [],
   "source": []
  },
  {
   "cell_type": "code",
   "execution_count": null,
   "metadata": {},
   "outputs": [],
   "source": []
  },
  {
   "source": [
    "To do:\n",
    "\n",
    "--> subsubj = \"sub-\" + str(subjects[0])\n",
    "subjectname shoud be inferred from folder (10_visualizer.ipynb later will be moved to derivatives/subject) - no more need to unpack lists + works with multiple subjects..."
   ],
   "cell_type": "markdown",
   "metadata": {}
  }
 ]
}