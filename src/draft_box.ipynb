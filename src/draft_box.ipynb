{
 "cells": [
  {
   "cell_type": "code",
   "execution_count": null,
   "metadata": {},
   "outputs": [],
   "source": [
    "import numpy as np\n",
    "freq_bands = dict(                #the frequency bands of interest for the analysis\n",
    "                delta=(1, 4), \n",
    "                theta=(4, 8), \n",
    "                alpha=(8, 12), \n",
    "                beta=(13, 29), \n",
    "                gamma=(30, 80))"
   ]
  },
  {
   "cell_type": "code",
   "execution_count": null,
   "metadata": {},
   "outputs": [],
   "source": [
    "log_freq_bands = dict()"
   ]
  },
  {
   "cell_type": "code",
   "execution_count": null,
   "metadata": {},
   "outputs": [],
   "source": [
    "for band in freq_bands:\n",
    "    lower, upper = freq_bands[band]\n",
    "    band_range = upper - lower +1\n",
    "    log_freq_bands[band] = (np.logspace(np.log10(lower), np.log10(upper), band_range))"
   ]
  },
  {
   "cell_type": "code",
   "execution_count": null,
   "metadata": {},
   "outputs": [],
   "source": [
    "log_freq_bands"
   ]
  },
  {
   "cell_type": "code",
   "execution_count": null,
   "metadata": {},
   "outputs": [],
   "source": [
    "import mne\n",
    "rawfile = \"/home/idrael/DATA/MEG/BIDS_clinic/derivatives/sub-BF28011991/meg/BF28011991_Block1_trans_tsss-eve-epo.fif\"\n",
    "epochs = mne.read_epochs(rawfile, preload= True)"
   ]
  },
  {
   "cell_type": "code",
   "execution_count": null,
   "metadata": {},
   "outputs": [],
   "source": [
    "events = epochs.event_id\n",
    "events"
   ]
  },
  {
   "cell_type": "code",
   "execution_count": null,
   "metadata": {},
   "outputs": [],
   "source": [
    "gr_1 = epochs[\"Gr_1\"].load_data().average"
   ]
  },
  {
   "cell_type": "code",
   "execution_count": null,
   "metadata": {},
   "outputs": [],
   "source": [
    "for event in events.keys():\n",
    "    print(event)"
   ]
  },
  {
   "cell_type": "code",
   "execution_count": null,
   "metadata": {},
   "outputs": [],
   "source": []
  },
  {
   "cell_type": "markdown",
   "metadata": {},
   "source": [
    "# Dipole visualization"
   ]
  },
  {
   "cell_type": "code",
   "execution_count": 2,
   "metadata": {
    "tags": []
   },
   "outputs": [],
   "source": [
    "import os\n",
    "import numpy as np\n",
    "import matplotlib.pyplot as plt\n",
    "from configuration import (subjects, n_jobs, bids_root, use_source_model_for_sourceloc, inv_loose_option,\n",
    "                            use_fwd_model_for_sourceloc, do_volume_source_loc, source_loc_methods,\n",
    "                            pick_meg, pick_eeg, concat_raws, signal_to_noise_ratio, minimum_norm_ori,\n",
    "                            peaks_tmin, peaks_tmax, peaks_mode, peaks_nr_of_points, dip_times)\n",
    "import mne\n",
    "from utils.utils import FileNameRetriever, RawPreprocessor, get_peak_points\n",
    "import glob\n",
    "from nilearn.plotting import plot_anat\n",
    "\n",
    "mne.viz.set_3d_backend(\"pyvista\")\n",
    "\n",
    "fnr =FileNameRetriever(bids_root)\n",
    "prepper = RawPreprocessor()\n",
    "\n",
    "snr = signal_to_noise_ratio\n",
    "lambda2 = 1. / snr ** 2\n",
    "\n",
    "for subj in subjects:\n",
    "    meg_folder = fnr.get_filename(subj, \"meg\")\n",
    "    epos = glob.glob(meg_folder + \"/*epo.fif\")\n",
    "    subjects_dir = fnr.get_filename(subj=subj, file=\"subjects_dir\")\n",
    "    bem_sol = fnr.get_filename(subj=subj, file=use_fwd_model_for_sourceloc)\n",
    "    trans_file = fnr.get_single_trans_file(subj)\n",
    "    for epo in epos:\n",
    "        epochs = mne.read_epochs(epo)\n",
    "        print(f\"Event-IDs are: {epochs.event_id}\")\n",
    "        events = epochs.event_id\n",
    "        print(f\"\\n\\n\\nevents: {events}\")\n",
    "\n",
    "        noise_cov = mne.compute_covariance(epochs, tmax=-1, \n",
    "                                    #projs=, \n",
    "                                    method='auto',\n",
    "                                    n_jobs=n_jobs)\n",
    "\n",
    "        data_cov = mne.compute_covariance(epochs,\n",
    "                                    tmin=-0.5, \n",
    "                                    tmax=0.3, \n",
    "                                    #projs=, \n",
    "                                    method='auto',\n",
    "                                    n_jobs=n_jobs)\n",
    "\n",
    "        for event in events.keys():\n",
    "            eventname = str(event)\n",
    "            if eventname == \"ignore_me\" or eventname == \"AAA\":\n",
    "                pass\n",
    "            else:\n",
    "                e = epochs[eventname].load_data().average()\n",
    "                spike_folder = fnr.get_filename(subj, \"spikes\")\n",
    "                e_folder = os.path.join(spike_folder, eventname)\n",
    "                cp_folder = os.path.join(spike_folder, eventname, \"custom_pics\")\n",
    "                cts_folder = os.path.join(spike_folder, eventname, \"custom_time_series\")\n",
    "                gp_folder = os.path.join(spike_folder, eventname, \"generic_pics\")\n",
    "                folders = [e_folder, cp_folder, cts_folder, gp_folder]\n",
    "                if not os.path.isdir(e_folder):\n",
    "                    for f in folders:\n",
    "                        print(f)\n",
    "                        os.mkdir(f)\n",
    "                \n",
    "                src_file = fnr.get_filename(subj, use_source_model_for_sourceloc)\n",
    "                if os.path.isfile(src_file):\n",
    "                    src = mne.read_source_spaces(src_file)\n",
    "                else:\n",
    "                    src = mne.setup_source_space(subj, spacing = use_source_model_for_sourceloc, \n",
    "                                                subjects_dir = subjects_dir, \n",
    "                                                n_jobs=n_jobs, \n",
    "                                                verbose=True)\n",
    "\n",
    "                fwd = mne.make_forward_solution(e.info, src=src, bem=bem_sol,\n",
    "                                            trans=trans_file, \n",
    "                                            meg=pick_meg, eeg=pick_eeg, mindist=0.2, \n",
    "                                            ignore_ref=False, \n",
    "                                            n_jobs=n_jobs, verbose=True)\n",
    "                             \n",
    "                inv = mne.minimum_norm.make_inverse_operator(e.info, forward=fwd, noise_cov=noise_cov, \n",
    "                                            loose=inv_loose_option, depth=0.8)\n",
    "    \n",
    "\n",
    "            "
   ]
  },
  {
   "cell_type": "code",
   "execution_count": 3,
   "metadata": {},
   "outputs": [
    {
     "output_type": "error",
     "ename": "NameError",
     "evalue": "name 'eventname' is not defined",
     "traceback": [
      "\u001b[0;31m---------------------------------------------------------------------------\u001b[0m",
      "\u001b[0;31mNameError\u001b[0m                                 Traceback (most recent call last)",
      "\u001b[0;32m<ipython-input-3-2161fc2e75ce>\u001b[0m in \u001b[0;36m<module>\u001b[0;34m\u001b[0m\n\u001b[1;32m      1\u001b[0m \u001b[0;32mfor\u001b[0m \u001b[0mm\u001b[0m \u001b[0;32min\u001b[0m \u001b[0msource_loc_methods\u001b[0m\u001b[0;34m:\u001b[0m\u001b[0;34m\u001b[0m\u001b[0;34m\u001b[0m\u001b[0m\n\u001b[0;32m----> 2\u001b[0;31m     \u001b[0mstc_name\u001b[0m \u001b[0;34m=\u001b[0m \u001b[0;34m\"stc_\"\u001b[0m \u001b[0;34m+\u001b[0m \u001b[0mm\u001b[0m \u001b[0;34m+\u001b[0m \u001b[0;34m\"_\"\u001b[0m \u001b[0;34m+\u001b[0m \u001b[0meventname\u001b[0m\u001b[0;34m\u001b[0m\u001b[0;34m\u001b[0m\u001b[0m\n\u001b[0m\u001b[1;32m      3\u001b[0m     \u001b[0mstc_name\u001b[0m \u001b[0;34m=\u001b[0m \u001b[0;34m'stc_'\u001b[0m \u001b[0;34m+\u001b[0m \u001b[0mm\u001b[0m\u001b[0;34m\u001b[0m\u001b[0;34m\u001b[0m\u001b[0m\n\u001b[1;32m      4\u001b[0m     \u001b[0;32mfor\u001b[0m \u001b[0mstart\u001b[0m\u001b[0;34m,\u001b[0m \u001b[0mstop\u001b[0m \u001b[0;32min\u001b[0m \u001b[0mdip_times\u001b[0m\u001b[0;34m.\u001b[0m\u001b[0mvalues\u001b[0m\u001b[0;34m(\u001b[0m\u001b[0;34m)\u001b[0m\u001b[0;34m:\u001b[0m\u001b[0;34m\u001b[0m\u001b[0;34m\u001b[0m\u001b[0m\n\u001b[1;32m      5\u001b[0m         \u001b[0mdip_epoch\u001b[0m \u001b[0;34m=\u001b[0m \u001b[0me\u001b[0m\u001b[0;34m.\u001b[0m\u001b[0mcopy\u001b[0m\u001b[0;34m(\u001b[0m\u001b[0;34m)\u001b[0m\u001b[0;34m.\u001b[0m\u001b[0mcrop\u001b[0m\u001b[0;34m(\u001b[0m\u001b[0mstart\u001b[0m\u001b[0;34m,\u001b[0m \u001b[0mstop\u001b[0m\u001b[0;34m)\u001b[0m\u001b[0;34m.\u001b[0m\u001b[0mpick\u001b[0m\u001b[0;34m(\u001b[0m\u001b[0;34m'meg'\u001b[0m\u001b[0;34m)\u001b[0m\u001b[0;34m\u001b[0m\u001b[0;34m\u001b[0m\u001b[0m\n",
      "\u001b[0;31mNameError\u001b[0m: name 'eventname' is not defined"
     ]
    }
   ],
   "source": [
    "for m in source_loc_methods:\n",
    "    stc_name = \"stc_\" + m + \"_\" + eventname\n",
    "    stc_name = 'stc_' + m\n",
    "    for start, stop in dip_times.values():\n",
    "        dip_epoch = e.copy().crop(start, stop).pick('meg')\n",
    "        ecd = mne.fit_dipole(dip_epoch, noise_cov, bem_sol, trans=trans_file)[0]\n",
    "        best_idx = np.argmax(ecd.gof)\n",
    "        best_time = ecd.times[best_idx]\n",
    "        trans = mne.read_trans(trans_file)\n",
    "        mri_pos = mne.head_to_mri(ecd.pos, mri_head_t=trans, subject=subj, subjects_dir=subjects_dir)\n",
    "        t1_file_name = os.path.join(subjects_dir, subj, 'mri', 'T1.mgz')\n",
    "        stoptime = str(abs(int(stop*1000)))\n",
    "        if stoptime == \"5\":\n",
    "            stoptime = \"05\"\n",
    "        title = str(eventname + ' - ECD @ minus ' + stoptime + ' ms')\n",
    "\n",
    "        # visualization\n",
    "        \n",
    "        fig, axes = plt.subplots(nrows=2, ncols=2,\n",
    "                                    gridspec_kw=dict(width_ratios=[3, 1],\n",
    "                                    top=0.85))\n",
    "        fig.suptitle(f\"{eventname} - Equivalent current dipole model - minus {stoptime} ms\")\n",
    "        plot_anat(t1_file_name, cut_coords=mri_pos[0], axes=axes[0])\n",
    "        fig.add_subplot(2,2,1, projection=\"3d\")\n",
    "        ecd.plot_locations(trans, subj, subjects_dir, mode=\"orthoview\")\n",
    "        t1_f_name_pic = ('img_ecd_' + eventname + '_' + '_Dipol_' + stoptime + '.png')\n",
    "        t1_f_name_pic = os.path.join(e_folder, t1_f_name_pic)\n",
    "        fig.savefig(t1_f_name_pic)\n",
    "        plt.close(\"all\")"
   ]
  },
  {
   "cell_type": "code",
   "execution_count": null,
   "metadata": {},
   "outputs": [],
   "source": []
  },
  {
   "source": [
    "# Hippocampal segmentation"
   ],
   "cell_type": "markdown",
   "metadata": {}
  },
  {
   "cell_type": "code",
   "execution_count": null,
   "metadata": {},
   "outputs": [],
   "source": [
    "\n",
    "import pandas as pd\n",
    "import os\n",
    "import matplotlib.pyplot as plt\n",
    "import seaborn as sns\n",
    "import datetime\n",
    "import numpy as np"
   ]
  },
  {
   "cell_type": "code",
   "execution_count": null,
   "metadata": {},
   "outputs": [],
   "source": [
    "columns = [\"Index\", \"SegId\", \"NVoxels\", \"Volume_mm3\", \"StructName\", \"normMean\", \"normStdDev\", \"normMin\", \"normMax\", \"normRange\"]\n",
    "subjects = [\"NP21062020\", \"NP25062020\", \"NP02072020\", \"NP16072020\"]"
   ]
  }
 ],
 "metadata": {
  "kernelspec": {
   "name": "python3",
   "display_name": "Python 3.8.5 64-bit ('mne': conda)",
   "metadata": {
    "interpreter": {
     "hash": "45c0edc4bd44d7d115da21db923f4ca26fe3f5e1154dcff079462729d3624880"
    }
   }
  },
  "language_info": {
   "codemirror_mode": {
    "name": "ipython",
    "version": 3
   },
   "file_extension": ".py",
   "mimetype": "text/x-python",
   "name": "python",
   "nbconvert_exporter": "python",
   "pygments_lexer": "ipython3",
   "version": "3.8.5-final"
  }
 },
 "nbformat": 4,
 "nbformat_minor": 4
}