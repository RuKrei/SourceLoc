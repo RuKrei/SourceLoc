{
 "cells": [
  {
   "cell_type": "code",
   "execution_count": 1,
   "metadata": {},
   "outputs": [],
   "source": [
    "import numpy as np\n",
    "freq_bands = dict(                #the frequency bands of interest for the analysis\n",
    "                delta=(1, 4), \n",
    "                theta=(4, 8), \n",
    "                alpha=(8, 12), \n",
    "                beta=(13, 29), \n",
    "                gamma=(30, 80))"
   ]
  },
  {
   "cell_type": "code",
   "execution_count": 2,
   "metadata": {},
   "outputs": [],
   "source": [
    "log_freq_bands = dict()"
   ]
  },
  {
   "cell_type": "code",
   "execution_count": 15,
   "metadata": {},
   "outputs": [],
   "source": [
    "for band in freq_bands:\n",
    "    lower, upper = freq_bands[band]\n",
    "    band_range = upper - lower +1\n",
    "    log_freq_bands[band] = (np.logspace(np.log10(lower), np.log10(upper), band_range))"
   ]
  },
  {
   "cell_type": "code",
   "execution_count": 16,
   "metadata": {},
   "outputs": [
    {
     "data": {
      "text/plain": [
       "{'delta': array([1.        , 1.58740105, 2.5198421 , 4.        ]),\n",
       " 'theta': array([5.        , 5.91607978, 7.        ]),\n",
       " 'alpha': array([ 8.        ,  8.85345536,  9.79795897, 10.84322404, 12.        ]),\n",
       " 'beta': array([13.        , 13.66852866, 14.37143659, 15.11049176, 15.88755305,\n",
       "        16.70457494, 17.5636124 , 18.46682611, 19.41648784, 20.41498619,\n",
       "        21.4648326 , 22.56866765, 23.72926774, 24.94955201, 26.23258974,\n",
       "        27.58160805, 29.        ]),\n",
       " 'gamma': array([30.        , 30.59430764, 31.20038866, 31.8184763 , 32.44880842,\n",
       "        33.09162757, 33.74718114, 34.41572139, 35.09750559, 35.79279611,\n",
       "        36.50186051, 37.22497166, 37.96240783, 38.71445279, 39.48139596,\n",
       "        40.26353246, 41.06116329, 41.87459539, 42.70414178, 43.5501217 ,\n",
       "        44.4128607 , 45.29269078, 46.18995051, 47.10498519, 48.03814694,\n",
       "        48.98979486, 49.96029516, 50.95002133, 51.95935422, 52.98868226,\n",
       "        54.03840154, 55.10891603, 56.20063769, 57.31398663, 58.44939129,\n",
       "        59.60728861, 60.78812418, 61.99235239, 63.22043667, 64.47284962,\n",
       "        65.75007318, 67.05259887, 68.38092792, 69.73557151, 71.11705094,\n",
       "        72.52589782, 73.96265432, 75.42787333, 76.9221187 , 78.44596545,\n",
       "        80.        ])}"
      ]
     },
     "execution_count": 16,
     "metadata": {},
     "output_type": "execute_result"
    }
   ],
   "source": [
    "log_freq_bands"
   ]
  },
  {
   "cell_type": "code",
   "execution_count": 1,
   "metadata": {},
   "outputs": [
    {
     "name": "stdout",
     "output_type": "stream",
     "text": [
      "Reading /home/idrael/DATA/MEG/BIDS_clinic/derivatives/sub-BF28011991/meg/BF28011991_Block1_trans_tsss-eve-epo.fif ...\n",
      "    Found the data of interest:\n",
      "        t =   -2000.00 ...    2000.00 ms\n",
      "        0 CTF compensation matrices available\n",
      "Not setting metadata\n",
      "Not setting metadata\n",
      "11 matching events found\n",
      "Applying baseline correction (mode: mean)\n",
      "0 projection items activated\n"
     ]
    }
   ],
   "source": [
    "import mne\n",
    "rawfile = \"/home/idrael/DATA/MEG/BIDS_clinic/derivatives/sub-BF28011991/meg/BF28011991_Block1_trans_tsss-eve-epo.fif\"\n",
    "epochs = mne.read_epochs(rawfile, preload= True)"
   ]
  },
  {
   "cell_type": "code",
   "execution_count": 3,
   "metadata": {},
   "outputs": [
    {
     "data": {
      "text/plain": [
       "{'ignore_me': 0, 'AAA': 1, 'Gr_1': 2, 'Gr_2': 3}"
      ]
     },
     "execution_count": 3,
     "metadata": {},
     "output_type": "execute_result"
    }
   ],
   "source": [
    "events = epochs.event_id\n",
    "events"
   ]
  },
  {
   "cell_type": "code",
   "execution_count": 4,
   "metadata": {},
   "outputs": [],
   "source": [
    "gr_1 = epochs[\"Gr_1\"].load_data().average"
   ]
  },
  {
   "cell_type": "code",
   "execution_count": 8,
   "metadata": {},
   "outputs": [
    {
     "name": "stdout",
     "output_type": "stream",
     "text": [
      "ignore_me\n",
      "AAA\n",
      "Gr_1\n",
      "Gr_2\n"
     ]
    }
   ],
   "source": [
    "for event in events.keys():\n",
    "    print(event)"
   ]
  },
  {
   "cell_type": "code",
   "execution_count": null,
   "metadata": {},
   "outputs": [],
   "source": []
  },
  {
   "cell_type": "markdown",
   "metadata": {},
   "source": [
    "# Dipole visualization"
   ]
  },
  {
   "cell_type": "code",
   "execution_count": 1,
   "metadata": {
    "tags": [
     "outputPrepend"
    ]
   },
   "outputs": [
    {
     "name": "stdout",
     "output_type": "stream",
     "text": [
      "Using pyvista 3d backend.\n",
      "\n",
      "Reading /home/idrael/DATA/MEG/BIDS_clinic/derivatives/sub-KV08082000/meg/KV08082000_block02_trans_tsss-eve-epo.fif ...\n",
      "    Found the data of interest:\n",
      "        t =   -1500.00 ...    1000.00 ms\n",
      "        0 CTF compensation matrices available\n",
      "Not setting metadata\n",
      "Not setting metadata\n",
      "26 matching events found\n",
      "Applying baseline correction (mode: mean)\n",
      "0 projection items activated\n",
      "Event-IDs are: {'ignore_me': 0, 'AAA': 1, 'Gr_1_re': 2, 'Gr_2_re': 3, 'Gr_3_li': 4}\n",
      "\n",
      "\n",
      "\n",
      "events: {'ignore_me': 0, 'AAA': 1, 'Gr_1_re': 2, 'Gr_2_re': 3, 'Gr_3_li': 4}\n",
      "Computing rank from data with rank=None\n",
      "    Using tolerance 9.9e-09 (2.2e-16 eps * 306 dim * 1.5e+05  max singular value)\n",
      "    Estimated rank (mag + grad): 306\n",
      "    MEG: rank 306 computed from 306 data channels with 0 projectors\n",
      "    Using tolerance 6.9e-11 (2.2e-16 eps * 64 dim * 4.9e+03  max singular value)\n",
      "    Estimated rank (eeg): 64\n",
      "    EEG: rank 64 computed from 64 data channels with 0 projectors\n",
      "Reducing data rank from 370 -> 370\n",
      "Estimating covariance using SHRUNK\n"
     ]
    },
    {
     "name": "stderr",
     "output_type": "stream",
     "text": [
      "<ipython-input-1-57e9b8e8c3dc>:33: RuntimeWarning: Something went wrong in the data-driven estimation of the data rank as it exceeds the theoretical rank from the info (306 > 70). Consider setting rank to \"auto\" or setting it explicitly as an integer.\n",
      "  noise_cov = mne.compute_covariance(epochs, tmax=-1,\n"
     ]
    },
    {
     "name": "stdout",
     "output_type": "stream",
     "text": [
      "Done.\n",
      "Estimating covariance using DIAGONAL_FIXED\n",
      "    MAG regularization : 0.1\n",
      "    GRAD regularization : 0.1\n",
      "    EEG regularization : 0.1\n",
      "Done.\n",
      "Estimating covariance using EMPIRICAL\n",
      "Done.\n",
      "Using cross-validation to select the best estimator.\n",
      "Number of samples used : 3926\n",
      "log-likelihood on unseen data (descending order):\n",
      "   shrunk: -866.061\n",
      "   diagonal_fixed: -1741.032\n",
      "   empirical: -3922.045\n",
      "selecting best estimator: shrunk\n",
      "[done]\n",
      "Computing rank from data with rank=None\n",
      "    Using tolerance 1.4e-08 (2.2e-16 eps * 306 dim * 2e+05  max singular value)\n",
      "    Estimated rank (mag + grad): 306\n",
      "    MEG: rank 306 computed from 306 data channels with 0 projectors\n",
      "    Using tolerance 1e-10 (2.2e-16 eps * 64 dim * 7.1e+03  max singular value)\n",
      "    Estimated rank (eeg): 64\n",
      "    EEG: rank 64 computed from 64 data channels with 0 projectors\n",
      "Reducing data rank from 370 -> 370\n",
      "Estimating covariance using SHRUNK\n"
     ]
    },
    {
     "name": "stderr",
     "output_type": "stream",
     "text": [
      "<ipython-input-1-57e9b8e8c3dc>:38: RuntimeWarning: Something went wrong in the data-driven estimation of the data rank as it exceeds the theoretical rank from the info (306 > 70). Consider setting rank to \"auto\" or setting it explicitly as an integer.\n",
      "  data_cov = mne.compute_covariance(epochs,\n"
     ]
    },
    {
     "name": "stdout",
     "output_type": "stream",
     "text": [
      "Done.\n",
      "Estimating covariance using DIAGONAL_FIXED\n",
      "    MAG regularization : 0.1\n",
      "    GRAD regularization : 0.1\n",
      "    EEG regularization : 0.1\n",
      "Done.\n",
      "Estimating covariance using EMPIRICAL\n",
      "Done.\n",
      "Using cross-validation to select the best estimator.\n",
      "Number of samples used : 6266\n",
      "log-likelihood on unseen data (descending order):\n",
      "   shrunk: -931.401\n",
      "   diagonal_fixed: -1795.947\n",
      "   empirical: -3992.756\n",
      "selecting best estimator: shrunk\n",
      "[done]\n",
      "    Reading a source space...\n",
      "    Computing patch statistics...\n",
      "    Patch information added...\n",
      "    Distance information added...\n",
      "    [done]\n",
      "    Reading a source space...\n",
      "    Computing patch statistics...\n",
      "    Patch information added...\n",
      "    Distance information added...\n",
      "    [done]\n",
      "    2 source spaces read\n",
      "Source space          : <SourceSpaces: [<surface (lh), n_vertices=132696, n_used=2562>, <surface (rh), n_vertices=129261, n_used=2562>] MRI (surface RAS) coords, subject 'KV08082000'>\n",
      "MRI -> head transform : /home/idrael/DATA/MEG/BIDS_clinic/derivatives/sub-KV08082000/meg/KV08082000-transfile.fif\n",
      "Measurement data      : instance of Info\n",
      "Conductor model   : /home/idrael/DATA/MEG/BIDS_clinic/derivatives/sub-KV08082000/forward_model/KV08082000-3-layer-BEM-solution.fif\n",
      "Accurate field computations\n",
      "Do computations in head coordinates\n",
      "Free source orientations\n",
      "\n",
      "Read 2 source spaces a total of 5124 active source locations\n",
      "\n",
      "Coordinate transformation: MRI (surface RAS) -> head\n",
      "     0.995503  0.082201  0.047082      -3.31 mm\n",
      "    -0.091585  0.962161  0.256630      15.46 mm\n",
      "    -0.024205 -0.259788  0.965362      23.03 mm\n",
      "     0.000000  0.000000  0.000000       1.00\n",
      "\n",
      "Read 306 MEG channels from info\n",
      "99 coil definitions read\n",
      "Coordinate transformation: MEG device -> head\n",
      "     1.000000  0.000000  0.000000       0.00 mm\n",
      "     0.000000  1.000000  0.000000       0.00 mm\n",
      "     0.000000  0.000000  1.000000      40.00 mm\n",
      "     0.000000  0.000000  0.000000       1.00\n",
      "MEG coil definitions created in head coordinates.\n",
      "Source spaces are now in head coordinates.\n",
      "\n",
      "Setting up the BEM model using /home/idrael/DATA/MEG/BIDS_clinic/derivatives/sub-KV08082000/forward_model/KV08082000-3-layer-BEM-solution.fif...\n",
      "\n",
      "Loading surfaces...\n",
      "Three-layer model surfaces loaded.\n",
      "\n",
      "Loading the solution matrix...\n",
      "\n",
      "Loaded linear_collocation BEM solution from /home/idrael/DATA/MEG/BIDS_clinic/derivatives/sub-KV08082000/forward_model/KV08082000-3-layer-BEM-solution.fif\n",
      "Employing the head->MRI coordinate transform with the BEM model.\n",
      "BEM model KV08082000-3-layer-BEM-solution.fif is now set up\n",
      "\n",
      "Source spaces are in head coordinates.\n",
      "Checking that the sources are inside the surface and at least    0.2 mm away (will take a few...)\n",
      "    Skipping interior check for 942 sources that fit inside a sphere of radius   49.9 mm\n",
      "    Skipping solid angle check for 0 points using Qhull\n"
     ]
    },
    {
     "name": "stderr",
     "output_type": "stream",
     "text": [
      "[Parallel(n_jobs=35)]: Using backend LokyBackend with 35 concurrent workers.\n",
      "[Parallel(n_jobs=35)]: Done   9 out of  35 | elapsed:   10.2s remaining:   29.5s\n",
      "[Parallel(n_jobs=35)]: Done  17 out of  35 | elapsed:   10.4s remaining:   11.0s\n"
     ]
    },
    {
     "name": "stdout",
     "output_type": "stream",
     "text": [
      "    Skipping interior check for 950 sources that fit inside a sphere of radius   49.9 mm\n",
      "    Skipping solid angle check for 0 points using Qhull\n"
     ]
    },
    {
     "name": "stderr",
     "output_type": "stream",
     "text": [
      "[Parallel(n_jobs=35)]: Done  25 out of  35 | elapsed:   10.5s remaining:    4.2s\n",
      "[Parallel(n_jobs=35)]: Done  33 out of  35 | elapsed:   10.5s remaining:    0.6s\n",
      "[Parallel(n_jobs=35)]: Done  35 out of  35 | elapsed:   10.6s finished\n",
      "[Parallel(n_jobs=35)]: Using backend LokyBackend with 35 concurrent workers.\n",
      "[Parallel(n_jobs=35)]: Done   9 out of  35 | elapsed:    0.1s remaining:    0.2s\n",
      "[Parallel(n_jobs=35)]: Done  17 out of  35 | elapsed:    0.1s remaining:    0.1s\n",
      "[Parallel(n_jobs=35)]: Done  25 out of  35 | elapsed:    0.1s remaining:    0.0s\n"
     ]
    },
    {
     "name": "stdout",
     "output_type": "stream",
     "text": [
      "\n",
      "Setting up compensation data...\n",
      "    No compensation set. Nothing more to do.\n",
      "\n",
      "Composing the field computation matrix...\n"
     ]
    },
    {
     "name": "stderr",
     "output_type": "stream",
     "text": [
      "[Parallel(n_jobs=35)]: Done  33 out of  35 | elapsed:    0.1s remaining:    0.0s\n",
      "[Parallel(n_jobs=35)]: Done  35 out of  35 | elapsed:    0.1s finished\n",
      "[Parallel(n_jobs=35)]: Using backend LokyBackend with 35 concurrent workers.\n",
      "[Parallel(n_jobs=35)]: Done   9 out of  35 | elapsed:    7.9s remaining:   22.8s\n",
      "[Parallel(n_jobs=35)]: Done  17 out of  35 | elapsed:    8.1s remaining:    8.6s\n",
      "[Parallel(n_jobs=35)]: Done  25 out of  35 | elapsed:    8.2s remaining:    3.3s\n",
      "[Parallel(n_jobs=35)]: Done  33 out of  35 | elapsed:    8.2s remaining:    0.5s\n",
      "[Parallel(n_jobs=35)]: Done  35 out of  35 | elapsed:    8.4s finished\n",
      "[Parallel(n_jobs=35)]: Using backend LokyBackend with 35 concurrent workers.\n",
      "[Parallel(n_jobs=35)]: Done   9 out of  35 | elapsed:    0.5s remaining:    1.4s\n",
      "[Parallel(n_jobs=35)]: Done  17 out of  35 | elapsed:    0.5s remaining:    0.5s\n",
      "[Parallel(n_jobs=35)]: Done  25 out of  35 | elapsed:    0.5s remaining:    0.2s\n",
      "[Parallel(n_jobs=35)]: Done  33 out of  35 | elapsed:    0.6s remaining:    0.0s\n",
      "[Parallel(n_jobs=35)]: Done  35 out of  35 | elapsed:    0.6s finished\n",
      "[Parallel(n_jobs=35)]: Using backend LokyBackend with 35 concurrent workers.\n",
      "[Parallel(n_jobs=35)]: Done   9 out of  35 | elapsed:    0.5s remaining:    1.4s\n",
      "[Parallel(n_jobs=35)]: Done  17 out of  35 | elapsed:    0.5s remaining:    0.5s\n",
      "[Parallel(n_jobs=35)]: Done  25 out of  35 | elapsed:    0.5s remaining:    0.2s\n",
      "[Parallel(n_jobs=35)]: Done  33 out of  35 | elapsed:    0.6s remaining:    0.0s\n",
      "[Parallel(n_jobs=35)]: Done  35 out of  35 | elapsed:    0.6s finished\n",
      "[Parallel(n_jobs=35)]: Using backend LokyBackend with 35 concurrent workers.\n",
      "[Parallel(n_jobs=35)]: Done   9 out of  35 | elapsed:    0.5s remaining:    1.4s\n",
      "[Parallel(n_jobs=35)]: Done  17 out of  35 | elapsed:    0.5s remaining:    0.5s\n",
      "[Parallel(n_jobs=35)]: Done  25 out of  35 | elapsed:    0.5s remaining:    0.2s\n",
      "[Parallel(n_jobs=35)]: Done  33 out of  35 | elapsed:    0.6s remaining:    0.0s\n",
      "[Parallel(n_jobs=35)]: Done  35 out of  35 | elapsed:    0.6s finished\n",
      "[Parallel(n_jobs=35)]: Using backend LokyBackend with 35 concurrent workers.\n",
      "[Parallel(n_jobs=35)]: Done   9 out of  35 | elapsed:    0.5s remaining:    1.4s\n",
      "[Parallel(n_jobs=35)]: Done  17 out of  35 | elapsed:    0.5s remaining:    0.5s\n",
      "[Parallel(n_jobs=35)]: Done  25 out of  35 | elapsed:    0.5s remaining:    0.2s\n",
      "[Parallel(n_jobs=35)]: Done  33 out of  35 | elapsed:    0.6s remaining:    0.0s\n",
      "[Parallel(n_jobs=35)]: Done  35 out of  35 | elapsed:    0.6s finished\n",
      "[Parallel(n_jobs=35)]: Using backend LokyBackend with 35 concurrent workers.\n",
      "[Parallel(n_jobs=35)]: Done   9 out of  35 | elapsed:    0.5s remaining:    1.4s\n",
      "[Parallel(n_jobs=35)]: Done  17 out of  35 | elapsed:    0.5s remaining:    0.5s\n",
      "[Parallel(n_jobs=35)]: Done  25 out of  35 | elapsed:    0.5s remaining:    0.2s\n",
      "[Parallel(n_jobs=35)]: Done  33 out of  35 | elapsed:    0.6s remaining:    0.0s\n",
      "[Parallel(n_jobs=35)]: Done  35 out of  35 | elapsed:    0.6s finished\n",
      "[Parallel(n_jobs=35)]: Using backend LokyBackend with 35 concurrent workers.\n",
      "[Parallel(n_jobs=35)]: Done   9 out of  35 | elapsed:    0.5s remaining:    1.4s\n",
      "[Parallel(n_jobs=35)]: Done  17 out of  35 | elapsed:    0.5s remaining:    0.5s\n",
      "[Parallel(n_jobs=35)]: Done  25 out of  35 | elapsed:    0.6s remaining:    0.2s\n",
      "[Parallel(n_jobs=35)]: Done  33 out of  35 | elapsed:    0.6s remaining:    0.0s\n",
      "[Parallel(n_jobs=35)]: Done  35 out of  35 | elapsed:    0.6s finished\n",
      "[Parallel(n_jobs=35)]: Using backend LokyBackend with 35 concurrent workers.\n",
      "[Parallel(n_jobs=35)]: Done   9 out of  35 | elapsed:    0.5s remaining:    1.4s\n",
      "[Parallel(n_jobs=35)]: Done  17 out of  35 | elapsed:    0.5s remaining:    0.5s\n",
      "[Parallel(n_jobs=35)]: Done  25 out of  35 | elapsed:    0.6s remaining:    0.2s\n",
      "[Parallel(n_jobs=35)]: Done  33 out of  35 | elapsed:    0.6s remaining:    0.0s\n",
      "[Parallel(n_jobs=35)]: Done  35 out of  35 | elapsed:    0.6s finished\n",
      "[Parallel(n_jobs=35)]: Using backend LokyBackend with 35 concurrent workers.\n",
      "[Parallel(n_jobs=35)]: Done   9 out of  35 | elapsed:    0.5s remaining:    1.4s\n",
      "[Parallel(n_jobs=35)]: Done  17 out of  35 | elapsed:    0.5s remaining:    0.5s\n",
      "[Parallel(n_jobs=35)]: Done  25 out of  35 | elapsed:    0.5s remaining:    0.2s\n",
      "[Parallel(n_jobs=35)]: Done  33 out of  35 | elapsed:    0.6s remaining:    0.0s\n",
      "[Parallel(n_jobs=35)]: Done  35 out of  35 | elapsed:    0.6s finished\n",
      "[Parallel(n_jobs=35)]: Using backend LokyBackend with 35 concurrent workers.\n",
      "[Parallel(n_jobs=35)]: Done   9 out of  35 | elapsed:    0.1s remaining:    0.2s\n",
      "[Parallel(n_jobs=35)]: Done  17 out of  35 | elapsed:    0.1s remaining:    0.1s\n",
      "[Parallel(n_jobs=35)]: Done  25 out of  35 | elapsed:    0.1s remaining:    0.0s\n",
      "[Parallel(n_jobs=35)]: Done  33 out of  35 | elapsed:    0.1s remaining:    0.0s\n",
      "[Parallel(n_jobs=35)]: Done  35 out of  35 | elapsed:    0.1s finished\n",
      "[Parallel(n_jobs=35)]: Using backend LokyBackend with 35 concurrent workers.\n",
      "[Parallel(n_jobs=35)]: Done   9 out of  35 | elapsed:    0.0s remaining:    0.1s\n",
      "[Parallel(n_jobs=35)]: Done  17 out of  35 | elapsed:    0.0s remaining:    0.1s\n",
      "[Parallel(n_jobs=35)]: Done  25 out of  35 | elapsed:    0.1s remaining:    0.0s\n",
      "[Parallel(n_jobs=35)]: Done  33 out of  35 | elapsed:    0.1s remaining:    0.0s\n",
      "[Parallel(n_jobs=35)]: Done  35 out of  35 | elapsed:    0.1s finished\n"
     ]
    },
    {
     "name": "stdout",
     "output_type": "stream",
     "text": [
      "Computing MEG at 5124 source locations (free orientations)...\n"
     ]
    },
    {
     "name": "stderr",
     "output_type": "stream",
     "text": [
      "[Parallel(n_jobs=35)]: Using backend LokyBackend with 35 concurrent workers.\n",
      "[Parallel(n_jobs=35)]: Done   9 out of  35 | elapsed:    0.0s remaining:    0.1s\n",
      "[Parallel(n_jobs=35)]: Done  17 out of  35 | elapsed:    0.1s remaining:    0.1s\n",
      "[Parallel(n_jobs=35)]: Done  25 out of  35 | elapsed:    0.1s remaining:    0.0s\n",
      "[Parallel(n_jobs=35)]: Done  33 out of  35 | elapsed:    0.1s remaining:    0.0s\n",
      "[Parallel(n_jobs=35)]: Done  35 out of  35 | elapsed:    0.1s finished\n",
      "[Parallel(n_jobs=35)]: Using backend LokyBackend with 35 concurrent workers.\n",
      "[Parallel(n_jobs=35)]: Done   9 out of  35 | elapsed:    1.2s remaining:    3.3s\n",
      "[Parallel(n_jobs=35)]: Done  17 out of  35 | elapsed:    1.8s remaining:    1.9s\n",
      "[Parallel(n_jobs=35)]: Done  25 out of  35 | elapsed:    2.5s remaining:    1.0s\n",
      "[Parallel(n_jobs=35)]: Done  33 out of  35 | elapsed:    3.2s remaining:    0.2s\n",
      "[Parallel(n_jobs=35)]: Done  35 out of  35 | elapsed:    3.4s finished\n"
     ]
    },
    {
     "name": "stdout",
     "output_type": "stream",
     "text": [
      "\n",
      "Finished.\n"
     ]
    },
    {
     "name": "stderr",
     "output_type": "stream",
     "text": [
      "[Parallel(n_jobs=35)]: Using backend LokyBackend with 35 concurrent workers.\n",
      "[Parallel(n_jobs=35)]: Done   9 out of  35 | elapsed:    0.1s remaining:    0.3s\n",
      "[Parallel(n_jobs=35)]: Done  17 out of  35 | elapsed:    0.1s remaining:    0.1s\n",
      "[Parallel(n_jobs=35)]: Done  25 out of  35 | elapsed:    0.1s remaining:    0.0s\n",
      "[Parallel(n_jobs=35)]: Done  33 out of  35 | elapsed:    0.1s remaining:    0.0s\n",
      "[Parallel(n_jobs=35)]: Done  35 out of  35 | elapsed:    0.1s finished\n"
     ]
    },
    {
     "name": "stdout",
     "output_type": "stream",
     "text": [
      "Computing inverse operator with 306 channels.\n",
      "    306 out of 306 channels remain after picking\n",
      "Selected 306 channels\n",
      "Creating the depth weighting matrix...\n",
      "    204 planar channels\n",
      "    limit = 3681/5124 = 10.002070\n",
      "    scale = 3.01203e-07 exp = 0.8\n",
      "Whitening the forward solution.\n",
      "Computing rank from covariance with rank=None\n",
      "    Using tolerance 4.2e-12 (2.2e-16 eps * 306 dim * 62  max singular value)\n",
      "    Estimated rank (mag + grad): 306\n",
      "    MEG: rank 306 computed from 306 data channels with 0 projectors\n",
      "    Setting small MEG eigenvalues to zero (without PCA)\n",
      "Creating the source covariance matrix\n",
      "Adjusting source covariance matrix.\n",
      "Computing SVD of whitened and weighted lead field matrix.\n",
      "    largest singular value = 5.86143\n",
      "    scaling factor to adjust the trace = 4.34684e+21\n"
     ]
    },
    {
     "name": "stderr",
     "output_type": "stream",
     "text": [
      "<ipython-input-1-57e9b8e8c3dc>:77: RuntimeWarning: Something went wrong in the data-driven estimation of the data rank as it exceeds the theoretical rank from the info (306 > 70). Consider setting rank to \"auto\" or setting it explicitly as an integer.\n",
      "  inv = mne.minimum_norm.make_inverse_operator(e.info, forward=fwd, noise_cov=noise_cov,\n",
      "<ipython-input-1-57e9b8e8c3dc>:77: RuntimeWarning: Something went wrong in the data-driven estimation of the data rank as it exceeds the theoretical rank from the info (306 > 70). Consider setting rank to \"auto\" or setting it explicitly as an integer.\n",
      "  inv = mne.minimum_norm.make_inverse_operator(e.info, forward=fwd, noise_cov=noise_cov,\n"
     ]
    },
    {
     "name": "stdout",
     "output_type": "stream",
     "text": [
      "    Reading a source space...\n",
      "    Computing patch statistics...\n",
      "    Patch information added...\n",
      "    Distance information added...\n",
      "    [done]\n",
      "    Reading a source space...\n",
      "    Computing patch statistics...\n",
      "    Patch information added...\n",
      "    Distance information added...\n",
      "    [done]\n",
      "    2 source spaces read\n",
      "Source space          : <SourceSpaces: [<surface (lh), n_vertices=132696, n_used=2562>, <surface (rh), n_vertices=129261, n_used=2562>] MRI (surface RAS) coords, subject 'KV08082000'>\n",
      "MRI -> head transform : /home/idrael/DATA/MEG/BIDS_clinic/derivatives/sub-KV08082000/meg/KV08082000-transfile.fif\n",
      "Measurement data      : instance of Info\n",
      "Conductor model   : /home/idrael/DATA/MEG/BIDS_clinic/derivatives/sub-KV08082000/forward_model/KV08082000-3-layer-BEM-solution.fif\n",
      "Accurate field computations\n",
      "Do computations in head coordinates\n",
      "Free source orientations\n",
      "\n",
      "Read 2 source spaces a total of 5124 active source locations\n",
      "\n",
      "Coordinate transformation: MRI (surface RAS) -> head\n",
      "     0.995503  0.082201  0.047082      -3.31 mm\n",
      "    -0.091585  0.962161  0.256630      15.46 mm\n",
      "    -0.024205 -0.259788  0.965362      23.03 mm\n",
      "     0.000000  0.000000  0.000000       1.00\n",
      "\n",
      "Read 306 MEG channels from info\n",
      "99 coil definitions read\n",
      "Coordinate transformation: MEG device -> head\n",
      "     1.000000  0.000000  0.000000       0.00 mm\n",
      "     0.000000  1.000000  0.000000       0.00 mm\n",
      "     0.000000  0.000000  1.000000      40.00 mm\n",
      "     0.000000  0.000000  0.000000       1.00\n",
      "MEG coil definitions created in head coordinates.\n",
      "Source spaces are now in head coordinates.\n",
      "\n",
      "Setting up the BEM model using /home/idrael/DATA/MEG/BIDS_clinic/derivatives/sub-KV08082000/forward_model/KV08082000-3-layer-BEM-solution.fif...\n",
      "\n",
      "Loading surfaces...\n",
      "Three-layer model surfaces loaded.\n",
      "\n",
      "Loading the solution matrix...\n",
      "\n",
      "Loaded linear_collocation BEM solution from /home/idrael/DATA/MEG/BIDS_clinic/derivatives/sub-KV08082000/forward_model/KV08082000-3-layer-BEM-solution.fif\n",
      "Employing the head->MRI coordinate transform with the BEM model.\n",
      "BEM model KV08082000-3-layer-BEM-solution.fif is now set up\n",
      "\n",
      "Source spaces are in head coordinates.\n",
      "Checking that the sources are inside the surface and at least    0.2 mm away (will take a few...)\n",
      "    Skipping interior check for 942 sources that fit inside a sphere of radius   49.9 mm\n",
      "    Skipping solid angle check for 0 points using Qhull\n",
      "    Skipping interior check for 950 sources that fit inside a sphere of radius   49.9 mm\n",
      "    Skipping solid angle check for 0 points using Qhull\n"
     ]
    },
    {
     "name": "stderr",
     "output_type": "stream",
     "text": [
      "[Parallel(n_jobs=35)]: Using backend LokyBackend with 35 concurrent workers.\n",
      "[Parallel(n_jobs=35)]: Done   9 out of  35 | elapsed:    0.1s remaining:    0.2s\n",
      "[Parallel(n_jobs=35)]: Done  17 out of  35 | elapsed:    0.1s remaining:    0.1s\n",
      "[Parallel(n_jobs=35)]: Done  25 out of  35 | elapsed:    0.1s remaining:    0.0s\n",
      "[Parallel(n_jobs=35)]: Done  33 out of  35 | elapsed:    0.1s remaining:    0.0s\n",
      "[Parallel(n_jobs=35)]: Done  35 out of  35 | elapsed:    0.1s finished\n",
      "[Parallel(n_jobs=35)]: Using backend LokyBackend with 35 concurrent workers.\n",
      "[Parallel(n_jobs=35)]: Done   9 out of  35 | elapsed:    0.1s remaining:    0.2s\n",
      "[Parallel(n_jobs=35)]: Done  17 out of  35 | elapsed:    0.1s remaining:    0.1s\n",
      "[Parallel(n_jobs=35)]: Done  25 out of  35 | elapsed:    0.1s remaining:    0.0s\n",
      "[Parallel(n_jobs=35)]: Done  33 out of  35 | elapsed:    0.1s remaining:    0.0s\n",
      "[Parallel(n_jobs=35)]: Done  35 out of  35 | elapsed:    0.1s finished\n"
     ]
    },
    {
     "name": "stdout",
     "output_type": "stream",
     "text": [
      "\n",
      "Setting up compensation data...\n",
      "    No compensation set. Nothing more to do.\n",
      "\n",
      "Composing the field computation matrix...\n"
     ]
    },
    {
     "name": "stderr",
     "output_type": "stream",
     "text": [
      "[Parallel(n_jobs=35)]: Using backend LokyBackend with 35 concurrent workers.\n",
      "[Parallel(n_jobs=35)]: Done   9 out of  35 | elapsed:    0.5s remaining:    1.6s\n",
      "[Parallel(n_jobs=35)]: Done  17 out of  35 | elapsed:    0.6s remaining:    0.6s\n",
      "[Parallel(n_jobs=35)]: Done  25 out of  35 | elapsed:    0.6s remaining:    0.2s\n",
      "[Parallel(n_jobs=35)]: Done  33 out of  35 | elapsed:    0.6s remaining:    0.0s\n",
      "[Parallel(n_jobs=35)]: Done  35 out of  35 | elapsed:    0.6s finished\n",
      "[Parallel(n_jobs=35)]: Using backend LokyBackend with 35 concurrent workers.\n",
      "[Parallel(n_jobs=35)]: Done   9 out of  35 | elapsed:    0.5s remaining:    1.3s\n",
      "[Parallel(n_jobs=35)]: Done  17 out of  35 | elapsed:    0.5s remaining:    0.5s\n",
      "[Parallel(n_jobs=35)]: Done  25 out of  35 | elapsed:    0.5s remaining:    0.2s\n",
      "[Parallel(n_jobs=35)]: Done  33 out of  35 | elapsed:    0.6s remaining:    0.0s\n",
      "[Parallel(n_jobs=35)]: Done  35 out of  35 | elapsed:    0.6s finished\n",
      "[Parallel(n_jobs=35)]: Using backend LokyBackend with 35 concurrent workers.\n",
      "[Parallel(n_jobs=35)]: Done   9 out of  35 | elapsed:    0.5s remaining:    1.4s\n",
      "[Parallel(n_jobs=35)]: Done  17 out of  35 | elapsed:    0.5s remaining:    0.6s\n",
      "[Parallel(n_jobs=35)]: Done  25 out of  35 | elapsed:    0.6s remaining:    0.2s\n",
      "[Parallel(n_jobs=35)]: Done  33 out of  35 | elapsed:    0.6s remaining:    0.0s\n",
      "[Parallel(n_jobs=35)]: Done  35 out of  35 | elapsed:    0.6s finished\n",
      "[Parallel(n_jobs=35)]: Using backend LokyBackend with 35 concurrent workers.\n",
      "[Parallel(n_jobs=35)]: Done   9 out of  35 | elapsed:    0.4s remaining:    1.3s\n",
      "[Parallel(n_jobs=35)]: Done  17 out of  35 | elapsed:    0.5s remaining:    0.5s\n",
      "[Parallel(n_jobs=35)]: Done  25 out of  35 | elapsed:    0.5s remaining:    0.2s\n",
      "[Parallel(n_jobs=35)]: Done  33 out of  35 | elapsed:    0.6s remaining:    0.0s\n",
      "[Parallel(n_jobs=35)]: Done  35 out of  35 | elapsed:    0.6s finished\n",
      "[Parallel(n_jobs=35)]: Using backend LokyBackend with 35 concurrent workers.\n",
      "[Parallel(n_jobs=35)]: Done   9 out of  35 | elapsed:    0.5s remaining:    1.4s\n",
      "[Parallel(n_jobs=35)]: Done  17 out of  35 | elapsed:    0.5s remaining:    0.5s\n",
      "[Parallel(n_jobs=35)]: Done  25 out of  35 | elapsed:    0.5s remaining:    0.2s\n",
      "[Parallel(n_jobs=35)]: Done  33 out of  35 | elapsed:    0.6s remaining:    0.0s\n",
      "[Parallel(n_jobs=35)]: Done  35 out of  35 | elapsed:    0.6s finished\n",
      "[Parallel(n_jobs=35)]: Using backend LokyBackend with 35 concurrent workers.\n",
      "[Parallel(n_jobs=35)]: Done   9 out of  35 | elapsed:    0.4s remaining:    1.3s\n",
      "[Parallel(n_jobs=35)]: Done  17 out of  35 | elapsed:    0.5s remaining:    0.5s\n",
      "[Parallel(n_jobs=35)]: Done  25 out of  35 | elapsed:    0.5s remaining:    0.2s\n",
      "[Parallel(n_jobs=35)]: Done  33 out of  35 | elapsed:    0.6s remaining:    0.0s\n",
      "[Parallel(n_jobs=35)]: Done  35 out of  35 | elapsed:    0.6s finished\n",
      "[Parallel(n_jobs=35)]: Using backend LokyBackend with 35 concurrent workers.\n",
      "[Parallel(n_jobs=35)]: Done   9 out of  35 | elapsed:    0.5s remaining:    1.4s\n",
      "[Parallel(n_jobs=35)]: Done  17 out of  35 | elapsed:    0.5s remaining:    0.6s\n",
      "[Parallel(n_jobs=35)]: Done  25 out of  35 | elapsed:    0.6s remaining:    0.2s\n",
      "[Parallel(n_jobs=35)]: Done  33 out of  35 | elapsed:    0.6s remaining:    0.0s\n",
      "[Parallel(n_jobs=35)]: Done  35 out of  35 | elapsed:    0.6s finished\n",
      "[Parallel(n_jobs=35)]: Using backend LokyBackend with 35 concurrent workers.\n",
      "[Parallel(n_jobs=35)]: Done   9 out of  35 | elapsed:    0.5s remaining:    1.4s\n",
      "[Parallel(n_jobs=35)]: Done  17 out of  35 | elapsed:    0.5s remaining:    0.5s\n",
      "[Parallel(n_jobs=35)]: Done  25 out of  35 | elapsed:    0.5s remaining:    0.2s\n",
      "[Parallel(n_jobs=35)]: Done  33 out of  35 | elapsed:    0.6s remaining:    0.0s\n",
      "[Parallel(n_jobs=35)]: Done  35 out of  35 | elapsed:    0.6s finished\n",
      "[Parallel(n_jobs=35)]: Using backend LokyBackend with 35 concurrent workers.\n",
      "[Parallel(n_jobs=35)]: Done   9 out of  35 | elapsed:    0.5s remaining:    1.4s\n",
      "[Parallel(n_jobs=35)]: Done  17 out of  35 | elapsed:    0.5s remaining:    0.5s\n",
      "[Parallel(n_jobs=35)]: Done  25 out of  35 | elapsed:    0.5s remaining:    0.2s\n",
      "[Parallel(n_jobs=35)]: Done  33 out of  35 | elapsed:    0.6s remaining:    0.0s\n",
      "[Parallel(n_jobs=35)]: Done  35 out of  35 | elapsed:    0.6s finished\n",
      "[Parallel(n_jobs=35)]: Using backend LokyBackend with 35 concurrent workers.\n",
      "[Parallel(n_jobs=35)]: Done   9 out of  35 | elapsed:    0.0s remaining:    0.1s\n",
      "[Parallel(n_jobs=35)]: Done  17 out of  35 | elapsed:    0.0s remaining:    0.1s\n",
      "[Parallel(n_jobs=35)]: Done  25 out of  35 | elapsed:    0.1s remaining:    0.0s\n",
      "[Parallel(n_jobs=35)]: Done  33 out of  35 | elapsed:    0.1s remaining:    0.0s\n",
      "[Parallel(n_jobs=35)]: Done  35 out of  35 | elapsed:    0.1s finished\n",
      "[Parallel(n_jobs=35)]: Using backend LokyBackend with 35 concurrent workers.\n",
      "[Parallel(n_jobs=35)]: Done   9 out of  35 | elapsed:    0.0s remaining:    0.1s\n",
      "[Parallel(n_jobs=35)]: Done  17 out of  35 | elapsed:    0.1s remaining:    0.1s\n",
      "[Parallel(n_jobs=35)]: Done  25 out of  35 | elapsed:    0.1s remaining:    0.0s\n",
      "[Parallel(n_jobs=35)]: Done  33 out of  35 | elapsed:    0.1s remaining:    0.0s\n",
      "[Parallel(n_jobs=35)]: Done  35 out of  35 | elapsed:    0.1s finished\n"
     ]
    },
    {
     "name": "stdout",
     "output_type": "stream",
     "text": [
      "Computing MEG at 5124 source locations (free orientations)...\n"
     ]
    },
    {
     "name": "stderr",
     "output_type": "stream",
     "text": [
      "[Parallel(n_jobs=35)]: Using backend LokyBackend with 35 concurrent workers.\n",
      "[Parallel(n_jobs=35)]: Done   9 out of  35 | elapsed:    0.0s remaining:    0.1s\n",
      "[Parallel(n_jobs=35)]: Done  17 out of  35 | elapsed:    0.1s remaining:    0.1s\n",
      "[Parallel(n_jobs=35)]: Done  25 out of  35 | elapsed:    0.1s remaining:    0.0s\n",
      "[Parallel(n_jobs=35)]: Done  33 out of  35 | elapsed:    0.1s remaining:    0.0s\n",
      "[Parallel(n_jobs=35)]: Done  35 out of  35 | elapsed:    0.1s finished\n",
      "[Parallel(n_jobs=35)]: Using backend LokyBackend with 35 concurrent workers.\n",
      "[Parallel(n_jobs=35)]: Done   9 out of  35 | elapsed:    1.2s remaining:    3.5s\n",
      "[Parallel(n_jobs=35)]: Done  17 out of  35 | elapsed:    2.1s remaining:    2.3s\n",
      "[Parallel(n_jobs=35)]: Done  25 out of  35 | elapsed:    3.1s remaining:    1.2s\n",
      "[Parallel(n_jobs=35)]: Done  33 out of  35 | elapsed:    3.9s remaining:    0.2s\n",
      "[Parallel(n_jobs=35)]: Done  35 out of  35 | elapsed:    4.1s finished\n"
     ]
    },
    {
     "name": "stdout",
     "output_type": "stream",
     "text": [
      "\n",
      "Finished.\n"
     ]
    },
    {
     "name": "stderr",
     "output_type": "stream",
     "text": [
      "[Parallel(n_jobs=35)]: Using backend LokyBackend with 35 concurrent workers.\n",
      "[Parallel(n_jobs=35)]: Done   9 out of  35 | elapsed:    0.1s remaining:    0.2s\n",
      "[Parallel(n_jobs=35)]: Done  17 out of  35 | elapsed:    0.1s remaining:    0.1s\n",
      "[Parallel(n_jobs=35)]: Done  25 out of  35 | elapsed:    0.1s remaining:    0.0s\n",
      "[Parallel(n_jobs=35)]: Done  33 out of  35 | elapsed:    0.1s remaining:    0.0s\n",
      "[Parallel(n_jobs=35)]: Done  35 out of  35 | elapsed:    0.1s finished\n"
     ]
    },
    {
     "name": "stdout",
     "output_type": "stream",
     "text": [
      "Computing inverse operator with 306 channels.\n",
      "    306 out of 306 channels remain after picking\n",
      "Selected 306 channels\n",
      "Creating the depth weighting matrix...\n",
      "    204 planar channels\n",
      "    limit = 3681/5124 = 10.002070\n",
      "    scale = 3.01203e-07 exp = 0.8\n",
      "Whitening the forward solution.\n",
      "Computing rank from covariance with rank=None\n",
      "    Using tolerance 4.2e-12 (2.2e-16 eps * 306 dim * 62  max singular value)\n",
      "    Estimated rank (mag + grad): 306\n",
      "    MEG: rank 306 computed from 306 data channels with 0 projectors\n",
      "    Setting small MEG eigenvalues to zero (without PCA)\n",
      "Creating the source covariance matrix\n",
      "Adjusting source covariance matrix.\n",
      "Computing SVD of whitened and weighted lead field matrix.\n",
      "    largest singular value = 5.86143\n",
      "    scaling factor to adjust the trace = 4.34684e+21\n"
     ]
    },
    {
     "name": "stderr",
     "output_type": "stream",
     "text": [
      "<ipython-input-1-57e9b8e8c3dc>:77: RuntimeWarning: Something went wrong in the data-driven estimation of the data rank as it exceeds the theoretical rank from the info (306 > 70). Consider setting rank to \"auto\" or setting it explicitly as an integer.\n",
      "  inv = mne.minimum_norm.make_inverse_operator(e.info, forward=fwd, noise_cov=noise_cov,\n",
      "<ipython-input-1-57e9b8e8c3dc>:77: RuntimeWarning: Something went wrong in the data-driven estimation of the data rank as it exceeds the theoretical rank from the info (306 > 70). Consider setting rank to \"auto\" or setting it explicitly as an integer.\n",
      "  inv = mne.minimum_norm.make_inverse_operator(e.info, forward=fwd, noise_cov=noise_cov,\n"
     ]
    },
    {
     "name": "stdout",
     "output_type": "stream",
     "text": [
      "    Reading a source space...\n",
      "    Computing patch statistics...\n",
      "    Patch information added...\n",
      "    Distance information added...\n",
      "    [done]\n",
      "    Reading a source space...\n",
      "    Computing patch statistics...\n",
      "    Patch information added...\n",
      "    Distance information added...\n",
      "    [done]\n",
      "    2 source spaces read\n",
      "Source space          : <SourceSpaces: [<surface (lh), n_vertices=132696, n_used=2562>, <surface (rh), n_vertices=129261, n_used=2562>] MRI (surface RAS) coords, subject 'KV08082000'>\n",
      "MRI -> head transform : /home/idrael/DATA/MEG/BIDS_clinic/derivatives/sub-KV08082000/meg/KV08082000-transfile.fif\n",
      "Measurement data      : instance of Info\n",
      "Conductor model   : /home/idrael/DATA/MEG/BIDS_clinic/derivatives/sub-KV08082000/forward_model/KV08082000-3-layer-BEM-solution.fif\n",
      "Accurate field computations\n",
      "Do computations in head coordinates\n",
      "Free source orientations\n",
      "\n",
      "Read 2 source spaces a total of 5124 active source locations\n",
      "\n",
      "Coordinate transformation: MRI (surface RAS) -> head\n",
      "     0.995503  0.082201  0.047082      -3.31 mm\n",
      "    -0.091585  0.962161  0.256630      15.46 mm\n",
      "    -0.024205 -0.259788  0.965362      23.03 mm\n",
      "     0.000000  0.000000  0.000000       1.00\n",
      "\n",
      "Read 306 MEG channels from info\n",
      "99 coil definitions read\n",
      "Coordinate transformation: MEG device -> head\n",
      "     1.000000  0.000000  0.000000       0.00 mm\n",
      "     0.000000  1.000000  0.000000       0.00 mm\n",
      "     0.000000  0.000000  1.000000      40.00 mm\n",
      "     0.000000  0.000000  0.000000       1.00\n",
      "MEG coil definitions created in head coordinates.\n",
      "Source spaces are now in head coordinates.\n",
      "\n",
      "Setting up the BEM model using /home/idrael/DATA/MEG/BIDS_clinic/derivatives/sub-KV08082000/forward_model/KV08082000-3-layer-BEM-solution.fif...\n",
      "\n",
      "Loading surfaces...\n",
      "Three-layer model surfaces loaded.\n",
      "\n",
      "Loading the solution matrix...\n",
      "\n",
      "Loaded linear_collocation BEM solution from /home/idrael/DATA/MEG/BIDS_clinic/derivatives/sub-KV08082000/forward_model/KV08082000-3-layer-BEM-solution.fif\n",
      "Employing the head->MRI coordinate transform with the BEM model.\n",
      "BEM model KV08082000-3-layer-BEM-solution.fif is now set up\n",
      "\n",
      "Source spaces are in head coordinates.\n",
      "Checking that the sources are inside the surface and at least    0.2 mm away (will take a few...)\n",
      "    Skipping interior check for 942 sources that fit inside a sphere of radius   49.9 mm\n",
      "    Skipping solid angle check for 0 points using Qhull\n",
      "    Skipping interior check for 950 sources that fit inside a sphere of radius   49.9 mm\n",
      "    Skipping solid angle check for 0 points using Qhull\n"
     ]
    },
    {
     "name": "stderr",
     "output_type": "stream",
     "text": [
      "[Parallel(n_jobs=35)]: Using backend LokyBackend with 35 concurrent workers.\n",
      "[Parallel(n_jobs=35)]: Done   9 out of  35 | elapsed:    0.1s remaining:    0.2s\n",
      "[Parallel(n_jobs=35)]: Done  17 out of  35 | elapsed:    0.1s remaining:    0.1s\n",
      "[Parallel(n_jobs=35)]: Done  25 out of  35 | elapsed:    0.1s remaining:    0.0s\n",
      "[Parallel(n_jobs=35)]: Done  33 out of  35 | elapsed:    0.1s remaining:    0.0s\n",
      "[Parallel(n_jobs=35)]: Done  35 out of  35 | elapsed:    0.1s finished\n",
      "[Parallel(n_jobs=35)]: Using backend LokyBackend with 35 concurrent workers.\n",
      "[Parallel(n_jobs=35)]: Done   9 out of  35 | elapsed:    0.1s remaining:    0.2s\n",
      "[Parallel(n_jobs=35)]: Done  17 out of  35 | elapsed:    0.1s remaining:    0.1s\n",
      "[Parallel(n_jobs=35)]: Done  25 out of  35 | elapsed:    0.1s remaining:    0.0s\n",
      "[Parallel(n_jobs=35)]: Done  33 out of  35 | elapsed:    0.1s remaining:    0.0s\n",
      "[Parallel(n_jobs=35)]: Done  35 out of  35 | elapsed:    0.1s finished\n"
     ]
    },
    {
     "name": "stdout",
     "output_type": "stream",
     "text": [
      "\n",
      "Setting up compensation data...\n",
      "    No compensation set. Nothing more to do.\n",
      "\n",
      "Composing the field computation matrix...\n"
     ]
    },
    {
     "name": "stderr",
     "output_type": "stream",
     "text": [
      "[Parallel(n_jobs=35)]: Using backend LokyBackend with 35 concurrent workers.\n",
      "[Parallel(n_jobs=35)]: Done   9 out of  35 | elapsed:    0.6s remaining:    1.6s\n",
      "[Parallel(n_jobs=35)]: Done  17 out of  35 | elapsed:    0.6s remaining:    0.6s\n",
      "[Parallel(n_jobs=35)]: Done  25 out of  35 | elapsed:    0.6s remaining:    0.2s\n",
      "[Parallel(n_jobs=35)]: Done  33 out of  35 | elapsed:    0.6s remaining:    0.0s\n",
      "[Parallel(n_jobs=35)]: Done  35 out of  35 | elapsed:    0.6s finished\n",
      "[Parallel(n_jobs=35)]: Using backend LokyBackend with 35 concurrent workers.\n",
      "[Parallel(n_jobs=35)]: Done   9 out of  35 | elapsed:    0.4s remaining:    1.3s\n",
      "[Parallel(n_jobs=35)]: Done  17 out of  35 | elapsed:    0.5s remaining:    0.5s\n",
      "[Parallel(n_jobs=35)]: Done  25 out of  35 | elapsed:    0.5s remaining:    0.2s\n",
      "[Parallel(n_jobs=35)]: Done  33 out of  35 | elapsed:    0.6s remaining:    0.0s\n",
      "[Parallel(n_jobs=35)]: Done  35 out of  35 | elapsed:    0.6s finished\n",
      "[Parallel(n_jobs=35)]: Using backend LokyBackend with 35 concurrent workers.\n",
      "[Parallel(n_jobs=35)]: Done   9 out of  35 | elapsed:    0.5s remaining:    1.4s\n",
      "[Parallel(n_jobs=35)]: Done  17 out of  35 | elapsed:    0.5s remaining:    0.5s\n",
      "[Parallel(n_jobs=35)]: Done  25 out of  35 | elapsed:    0.5s remaining:    0.2s\n",
      "[Parallel(n_jobs=35)]: Done  33 out of  35 | elapsed:    0.6s remaining:    0.0s\n",
      "[Parallel(n_jobs=35)]: Done  35 out of  35 | elapsed:    0.6s finished\n",
      "[Parallel(n_jobs=35)]: Using backend LokyBackend with 35 concurrent workers.\n",
      "[Parallel(n_jobs=35)]: Done   9 out of  35 | elapsed:    0.5s remaining:    1.4s\n",
      "[Parallel(n_jobs=35)]: Done  17 out of  35 | elapsed:    0.5s remaining:    0.5s\n",
      "[Parallel(n_jobs=35)]: Done  25 out of  35 | elapsed:    0.5s remaining:    0.2s\n",
      "[Parallel(n_jobs=35)]: Done  33 out of  35 | elapsed:    0.6s remaining:    0.0s\n",
      "[Parallel(n_jobs=35)]: Done  35 out of  35 | elapsed:    0.6s finished\n",
      "[Parallel(n_jobs=35)]: Using backend LokyBackend with 35 concurrent workers.\n",
      "[Parallel(n_jobs=35)]: Done   9 out of  35 | elapsed:    0.4s remaining:    1.3s\n",
      "[Parallel(n_jobs=35)]: Done  17 out of  35 | elapsed:    0.5s remaining:    0.5s\n",
      "[Parallel(n_jobs=35)]: Done  25 out of  35 | elapsed:    0.5s remaining:    0.2s\n",
      "[Parallel(n_jobs=35)]: Done  33 out of  35 | elapsed:    0.6s remaining:    0.0s\n",
      "[Parallel(n_jobs=35)]: Done  35 out of  35 | elapsed:    0.6s finished\n",
      "[Parallel(n_jobs=35)]: Using backend LokyBackend with 35 concurrent workers.\n",
      "[Parallel(n_jobs=35)]: Done   9 out of  35 | elapsed:    0.5s remaining:    1.4s\n",
      "[Parallel(n_jobs=35)]: Done  17 out of  35 | elapsed:    0.5s remaining:    0.5s\n",
      "[Parallel(n_jobs=35)]: Done  25 out of  35 | elapsed:    0.5s remaining:    0.2s\n",
      "[Parallel(n_jobs=35)]: Done  33 out of  35 | elapsed:    0.6s remaining:    0.0s\n",
      "[Parallel(n_jobs=35)]: Done  35 out of  35 | elapsed:    0.6s finished\n",
      "[Parallel(n_jobs=35)]: Using backend LokyBackend with 35 concurrent workers.\n",
      "[Parallel(n_jobs=35)]: Done   9 out of  35 | elapsed:    0.5s remaining:    1.4s\n",
      "[Parallel(n_jobs=35)]: Done  17 out of  35 | elapsed:    0.5s remaining:    0.5s\n",
      "[Parallel(n_jobs=35)]: Done  25 out of  35 | elapsed:    0.5s remaining:    0.2s\n",
      "[Parallel(n_jobs=35)]: Done  33 out of  35 | elapsed:    0.5s remaining:    0.0s\n",
      "[Parallel(n_jobs=35)]: Done  35 out of  35 | elapsed:    0.6s finished\n",
      "[Parallel(n_jobs=35)]: Using backend LokyBackend with 35 concurrent workers.\n",
      "[Parallel(n_jobs=35)]: Done   9 out of  35 | elapsed:    0.5s remaining:    1.4s\n",
      "[Parallel(n_jobs=35)]: Done  17 out of  35 | elapsed:    0.5s remaining:    0.5s\n",
      "[Parallel(n_jobs=35)]: Done  25 out of  35 | elapsed:    0.5s remaining:    0.2s\n",
      "[Parallel(n_jobs=35)]: Done  33 out of  35 | elapsed:    0.6s remaining:    0.0s\n",
      "[Parallel(n_jobs=35)]: Done  35 out of  35 | elapsed:    0.6s finished\n",
      "[Parallel(n_jobs=35)]: Using backend LokyBackend with 35 concurrent workers.\n",
      "[Parallel(n_jobs=35)]: Done   9 out of  35 | elapsed:    0.5s remaining:    1.4s\n",
      "[Parallel(n_jobs=35)]: Done  17 out of  35 | elapsed:    0.5s remaining:    0.5s\n",
      "[Parallel(n_jobs=35)]: Done  25 out of  35 | elapsed:    0.5s remaining:    0.2s\n",
      "[Parallel(n_jobs=35)]: Done  33 out of  35 | elapsed:    0.6s remaining:    0.0s\n",
      "[Parallel(n_jobs=35)]: Done  35 out of  35 | elapsed:    0.6s finished\n",
      "[Parallel(n_jobs=35)]: Using backend LokyBackend with 35 concurrent workers.\n",
      "[Parallel(n_jobs=35)]: Done   9 out of  35 | elapsed:    0.0s remaining:    0.1s\n",
      "[Parallel(n_jobs=35)]: Done  17 out of  35 | elapsed:    0.1s remaining:    0.1s\n",
      "[Parallel(n_jobs=35)]: Done  25 out of  35 | elapsed:    0.1s remaining:    0.0s\n",
      "[Parallel(n_jobs=35)]: Done  33 out of  35 | elapsed:    0.1s remaining:    0.0s\n",
      "[Parallel(n_jobs=35)]: Done  35 out of  35 | elapsed:    0.1s finished\n",
      "[Parallel(n_jobs=35)]: Using backend LokyBackend with 35 concurrent workers.\n",
      "[Parallel(n_jobs=35)]: Done   9 out of  35 | elapsed:    0.0s remaining:    0.1s\n",
      "[Parallel(n_jobs=35)]: Done  17 out of  35 | elapsed:    0.1s remaining:    0.1s\n",
      "[Parallel(n_jobs=35)]: Done  25 out of  35 | elapsed:    0.1s remaining:    0.0s\n",
      "[Parallel(n_jobs=35)]: Done  33 out of  35 | elapsed:    0.1s remaining:    0.0s\n",
      "[Parallel(n_jobs=35)]: Done  35 out of  35 | elapsed:    0.1s finished\n",
      "[Parallel(n_jobs=35)]: Using backend LokyBackend with 35 concurrent workers.\n"
     ]
    },
    {
     "name": "stdout",
     "output_type": "stream",
     "text": [
      "Computing MEG at 5124 source locations (free orientations)...\n"
     ]
    },
    {
     "name": "stderr",
     "output_type": "stream",
     "text": [
      "[Parallel(n_jobs=35)]: Done   9 out of  35 | elapsed:    0.0s remaining:    0.1s\n",
      "[Parallel(n_jobs=35)]: Done  17 out of  35 | elapsed:    0.1s remaining:    0.1s\n",
      "[Parallel(n_jobs=35)]: Done  25 out of  35 | elapsed:    0.1s remaining:    0.0s\n",
      "[Parallel(n_jobs=35)]: Done  33 out of  35 | elapsed:    0.1s remaining:    0.0s\n",
      "[Parallel(n_jobs=35)]: Done  35 out of  35 | elapsed:    0.1s finished\n",
      "[Parallel(n_jobs=35)]: Using backend LokyBackend with 35 concurrent workers.\n",
      "[Parallel(n_jobs=35)]: Done   9 out of  35 | elapsed:    1.3s remaining:    3.7s\n",
      "[Parallel(n_jobs=35)]: Done  17 out of  35 | elapsed:    2.2s remaining:    2.4s\n",
      "[Parallel(n_jobs=35)]: Done  25 out of  35 | elapsed:    3.2s remaining:    1.3s\n",
      "[Parallel(n_jobs=35)]: Done  33 out of  35 | elapsed:    4.1s remaining:    0.2s\n",
      "[Parallel(n_jobs=35)]: Done  35 out of  35 | elapsed:    4.3s finished\n"
     ]
    },
    {
     "name": "stdout",
     "output_type": "stream",
     "text": [
      "\n",
      "Finished.\n"
     ]
    },
    {
     "name": "stderr",
     "output_type": "stream",
     "text": [
      "[Parallel(n_jobs=35)]: Using backend LokyBackend with 35 concurrent workers.\n",
      "[Parallel(n_jobs=35)]: Done   9 out of  35 | elapsed:    0.1s remaining:    0.2s\n",
      "[Parallel(n_jobs=35)]: Done  17 out of  35 | elapsed:    0.1s remaining:    0.1s\n",
      "[Parallel(n_jobs=35)]: Done  25 out of  35 | elapsed:    0.1s remaining:    0.0s\n",
      "[Parallel(n_jobs=35)]: Done  33 out of  35 | elapsed:    0.1s remaining:    0.0s\n",
      "[Parallel(n_jobs=35)]: Done  35 out of  35 | elapsed:    0.1s finished\n"
     ]
    },
    {
     "name": "stdout",
     "output_type": "stream",
     "text": [
      "Computing inverse operator with 306 channels.\n",
      "    306 out of 306 channels remain after picking\n",
      "Selected 306 channels\n",
      "Creating the depth weighting matrix...\n",
      "    204 planar channels\n",
      "    limit = 3681/5124 = 10.002070\n",
      "    scale = 3.01203e-07 exp = 0.8\n",
      "Whitening the forward solution.\n",
      "Computing rank from covariance with rank=None\n",
      "    Using tolerance 4.2e-12 (2.2e-16 eps * 306 dim * 62  max singular value)\n",
      "    Estimated rank (mag + grad): 306\n",
      "    MEG: rank 306 computed from 306 data channels with 0 projectors\n",
      "    Setting small MEG eigenvalues to zero (without PCA)\n",
      "Creating the source covariance matrix\n",
      "Adjusting source covariance matrix.\n",
      "Computing SVD of whitened and weighted lead field matrix.\n"
     ]
    },
    {
     "name": "stderr",
     "output_type": "stream",
     "text": [
      "<ipython-input-1-57e9b8e8c3dc>:77: RuntimeWarning: Something went wrong in the data-driven estimation of the data rank as it exceeds the theoretical rank from the info (306 > 70). Consider setting rank to \"auto\" or setting it explicitly as an integer.\n",
      "  inv = mne.minimum_norm.make_inverse_operator(e.info, forward=fwd, noise_cov=noise_cov,\n",
      "<ipython-input-1-57e9b8e8c3dc>:77: RuntimeWarning: Something went wrong in the data-driven estimation of the data rank as it exceeds the theoretical rank from the info (306 > 70). Consider setting rank to \"auto\" or setting it explicitly as an integer.\n",
      "  inv = mne.minimum_norm.make_inverse_operator(e.info, forward=fwd, noise_cov=noise_cov,\n"
     ]
    },
    {
     "name": "stdout",
     "output_type": "stream",
     "text": [
      "    largest singular value = 5.86143\n",
      "    scaling factor to adjust the trace = 4.34684e+21\n"
     ]
    }
   ],
   "source": [
    "import os\n",
    "import numpy as np\n",
    "import matplotlib.pyplot as plt\n",
    "from configuration import (subjects, n_jobs, bids_root, use_source_model_for_sourceloc, inv_loose_option,\n",
    "                            use_fwd_model_for_sourceloc, do_volume_source_loc, source_loc_methods,\n",
    "                            pick_meg, pick_eeg, concat_raws, signal_to_noise_ratio, minimum_norm_ori,\n",
    "                            peaks_tmin, peaks_tmax, peaks_mode, peaks_nr_of_points, dip_times)\n",
    "import mne\n",
    "from utils.utils import FileNameRetriever, RawPreprocessor, get_peak_points\n",
    "import glob\n",
    "from nilearn.plotting import plot_anat\n",
    "\n",
    "mne.viz.set_3d_backend(\"pyvista\")\n",
    "\n",
    "fnr =FileNameRetriever(bids_root)\n",
    "prepper = RawPreprocessor()\n",
    "\n",
    "snr = signal_to_noise_ratio\n",
    "lambda2 = 1. / snr ** 2\n",
    "\n",
    "for subj in subjects:\n",
    "    meg_folder = fnr.get_filename(subj, \"meg\")\n",
    "    epos = glob.glob(meg_folder + \"/*epo.fif\")\n",
    "    subjects_dir = fnr.get_filename(subj=subj, file=\"subjects_dir\")\n",
    "    bem_sol = fnr.get_filename(subj=subj, file=use_fwd_model_for_sourceloc)\n",
    "    trans_file = fnr.get_single_trans_file(subj)\n",
    "    for epo in epos:\n",
    "        epochs = mne.read_epochs(epo)\n",
    "        print(f\"Event-IDs are: {epochs.event_id}\")\n",
    "        events = epochs.event_id\n",
    "        print(f\"\\n\\n\\nevents: {events}\")\n",
    "\n",
    "        noise_cov = mne.compute_covariance(epochs, tmax=-1, \n",
    "                                    #projs=, \n",
    "                                    method='auto',\n",
    "                                    n_jobs=n_jobs)\n",
    "\n",
    "        data_cov = mne.compute_covariance(epochs,\n",
    "                                    tmin=-0.5, \n",
    "                                    tmax=0.3, \n",
    "                                    #projs=, \n",
    "                                    method='auto',\n",
    "                                    n_jobs=n_jobs)\n",
    "\n",
    "        for event in events.keys():\n",
    "            eventname = str(event)\n",
    "            if eventname == \"ignore_me\" or eventname == \"AAA\":\n",
    "                pass\n",
    "            else:\n",
    "                e = epochs[eventname].load_data().average()\n",
    "                spike_folder = fnr.get_filename(subj, \"spikes\")\n",
    "                e_folder = os.path.join(spike_folder, eventname)\n",
    "                cp_folder = os.path.join(spike_folder, eventname, \"custom_pics\")\n",
    "                cts_folder = os.path.join(spike_folder, eventname, \"custom_time_series\")\n",
    "                gp_folder = os.path.join(spike_folder, eventname, \"generic_pics\")\n",
    "                folders = [e_folder, cp_folder, cts_folder, gp_folder]\n",
    "                if not os.path.isdir(e_folder):\n",
    "                    for f in folders:\n",
    "                        print(f)\n",
    "                        os.mkdir(f)\n",
    "                \n",
    "                src_file = fnr.get_filename(subj, use_source_model_for_sourceloc)\n",
    "                if os.path.isfile(src_file):\n",
    "                    src = mne.read_source_spaces(src_file)\n",
    "                else:\n",
    "                    src = mne.setup_source_space(subj, spacing = use_source_model_for_sourceloc, \n",
    "                                                subjects_dir = subjects_dir, \n",
    "                                                n_jobs=n_jobs, \n",
    "                                                verbose=True)\n",
    "\n",
    "                fwd = mne.make_forward_solution(e.info, src=src, bem=bem_sol,\n",
    "                                            trans=trans_file, \n",
    "                                            meg=pick_meg, eeg=pick_eeg, mindist=0.2, \n",
    "                                            ignore_ref=False, \n",
    "                                            n_jobs=n_jobs, verbose=True)\n",
    "                             \n",
    "                inv = mne.minimum_norm.make_inverse_operator(e.info, forward=fwd, noise_cov=noise_cov, \n",
    "                                            loose=inv_loose_option, depth=0.8)\n",
    "    \n",
    "\n",
    "            "
   ]
  },
  {
   "cell_type": "code",
   "execution_count": 15,
   "metadata": {},
   "outputs": [
    {
     "name": "stdout",
     "output_type": "stream",
     "text": [
      "MRI transform     : /home/idrael/DATA/MEG/BIDS_clinic/derivatives/sub-KV08082000/meg/KV08082000-transfile.fif\n",
      "Head origin       :   -1.1   -2.2   58.5 mm rad =   72.4 mm.\n",
      "Guess grid        :   20.0 mm\n",
      "Guess mindist     :    5.0 mm\n",
      "Guess exclude     :   20.0 mm\n",
      "Using standard MEG coil definitions.\n",
      "\n",
      "Coordinate transformation: MRI (surface RAS) -> head\n",
      "     0.995503  0.082201  0.047082      -3.31 mm\n",
      "    -0.091585  0.962161  0.256630      15.46 mm\n",
      "    -0.024205 -0.259788  0.965362      23.03 mm\n",
      "     0.000000  0.000000  0.000000       1.00\n",
      "Coordinate transformation: MEG device -> head\n",
      "     1.000000  0.000000  0.000000       0.00 mm\n",
      "     0.000000  1.000000  0.000000       0.00 mm\n",
      "     0.000000  0.000000  1.000000      40.00 mm\n",
      "     0.000000  0.000000  0.000000       1.00\n",
      "0 bad channels total\n",
      "Read 306 MEG channels from info\n",
      "99 coil definitions read\n",
      "Coordinate transformation: MEG device -> head\n",
      "     1.000000  0.000000  0.000000       0.00 mm\n",
      "     0.000000  1.000000  0.000000       0.00 mm\n",
      "     0.000000  0.000000  1.000000      40.00 mm\n",
      "     0.000000  0.000000  0.000000       1.00\n",
      "MEG coil definitions created in head coordinates.\n",
      "Decomposing the sensor noise covariance matrix...\n",
      "Computing rank from covariance with rank=None\n",
      "    Using tolerance 4.2e-12 (2.2e-16 eps * 306 dim * 62  max singular value)\n",
      "    Estimated rank (mag + grad): 306\n",
      "    MEG: rank 306 computed from 306 data channels with 0 projectors\n",
      "    Setting small MEG eigenvalues to zero (without PCA)\n",
      "    Created the whitener using a noise covariance matrix with rank 306 (0 small eigenvalues omitted)\n",
      "\n",
      "---- Computing the forward solution for the guesses...\n",
      "Guess surface (inner skull) is in MRI (surface RAS) coordinates\n",
      "Filtering (grid =     20 mm)...\n",
      "Surface CM = (   2.8  -25.2   28.3) mm\n",
      "Surface fits inside a sphere with radius   94.7 mm\n",
      "Surface extent:\n",
      "    x =  -68.4 ...   74.2 mm\n",
      "    y = -107.5 ...   68.9 mm\n",
      "    z =  -48.4 ...   94.5 mm\n",
      "Grid extent:\n",
      "    x =  -80.0 ...   80.0 mm\n",
      "    y = -120.0 ...   80.0 mm\n",
      "    z =  -60.0 ...  100.0 mm\n",
      "891 sources before omitting any.\n",
      "434 sources after omitting infeasible sources not within 20.0 - 94.7 mm.\n",
      "Source spaces are in MRI coordinates.\n",
      "Checking that the sources are inside the surface and at least    5.0 mm away (will take a few...)\n",
      "    Skipping interior check for 58 sources that fit inside a sphere of radius   49.9 mm\n",
      "    Skipping solid angle check for 223 points using Qhull\n"
     ]
    },
    {
     "name": "stderr",
     "output_type": "stream",
     "text": [
      "<ipython-input-15-2161fc2e75ce>:6: RuntimeWarning: Something went wrong in the data-driven estimation of the data rank as it exceeds the theoretical rank from the info (306 > 70). Consider setting rank to \"auto\" or setting it explicitly as an integer.\n",
      "  ecd = mne.fit_dipole(dip_epoch, noise_cov, bem_sol, trans=trans_file)[0]\n"
     ]
    },
    {
     "name": "stdout",
     "output_type": "stream",
     "text": [
      "    235 source space points omitted because they are outside the inner skull surface.\n",
      "    33 source space points omitted because of the    5.0-mm distance limit.\n",
      "166 sources remaining after excluding the sources outside the surface and less than    5.0 mm inside.\n",
      "Go through all guess source locations...\n",
      "[done 166 sources]\n",
      "---- Fitted :   -26.7 ms, distance to inner skull : 6.6925 mm\n",
      "---- Fitted :   -23.3 ms, distance to inner skull : 5.0005 mm\n",
      "---- Fitted :   -20.0 ms, distance to inner skull : 5.0010 mm\n",
      "No projector specified for this dataset. Please consider the method self.add_proj.\n",
      "3 time points fitted\n"
     ]
    },
    {
     "ename": "AttributeError",
     "evalue": "'numpy.ndarray' object has no attribute 'axis'",
     "output_type": "error",
     "traceback": [
      "\u001b[0;31m---------------------------------------------------------------------------\u001b[0m",
      "\u001b[0;31mAttributeError\u001b[0m                            Traceback (most recent call last)",
      "\u001b[0;32m<ipython-input-15-2161fc2e75ce>\u001b[0m in \u001b[0;36m<module>\u001b[0;34m\u001b[0m\n\u001b[1;32m     21\u001b[0m                                     top=0.85))\n\u001b[1;32m     22\u001b[0m         \u001b[0mfig\u001b[0m\u001b[0;34m.\u001b[0m\u001b[0msuptitle\u001b[0m\u001b[0;34m(\u001b[0m\u001b[0;34mf\"{eventname} - Equivalent current dipole model - minus {stoptime} ms\"\u001b[0m\u001b[0;34m)\u001b[0m\u001b[0;34m\u001b[0m\u001b[0;34m\u001b[0m\u001b[0m\n\u001b[0;32m---> 23\u001b[0;31m         \u001b[0mplot_anat\u001b[0m\u001b[0;34m(\u001b[0m\u001b[0mt1_file_name\u001b[0m\u001b[0;34m,\u001b[0m \u001b[0mcut_coords\u001b[0m\u001b[0;34m=\u001b[0m\u001b[0mmri_pos\u001b[0m\u001b[0;34m[\u001b[0m\u001b[0;36m0\u001b[0m\u001b[0;34m]\u001b[0m\u001b[0;34m,\u001b[0m \u001b[0maxes\u001b[0m\u001b[0;34m=\u001b[0m\u001b[0maxes\u001b[0m\u001b[0;34m[\u001b[0m\u001b[0;36m0\u001b[0m\u001b[0;34m]\u001b[0m\u001b[0;34m)\u001b[0m\u001b[0;34m\u001b[0m\u001b[0;34m\u001b[0m\u001b[0m\n\u001b[0m\u001b[1;32m     24\u001b[0m         \u001b[0mfig\u001b[0m\u001b[0;34m.\u001b[0m\u001b[0madd_subplot\u001b[0m\u001b[0;34m(\u001b[0m\u001b[0;36m2\u001b[0m\u001b[0;34m,\u001b[0m\u001b[0;36m2\u001b[0m\u001b[0;34m,\u001b[0m\u001b[0;36m1\u001b[0m\u001b[0;34m,\u001b[0m \u001b[0mprojection\u001b[0m\u001b[0;34m=\u001b[0m\u001b[0;34m\"3d\"\u001b[0m\u001b[0;34m)\u001b[0m\u001b[0;34m\u001b[0m\u001b[0;34m\u001b[0m\u001b[0m\n\u001b[1;32m     25\u001b[0m         \u001b[0mecd\u001b[0m\u001b[0;34m.\u001b[0m\u001b[0mplot_locations\u001b[0m\u001b[0;34m(\u001b[0m\u001b[0mtrans\u001b[0m\u001b[0;34m,\u001b[0m \u001b[0msubj\u001b[0m\u001b[0;34m,\u001b[0m \u001b[0msubjects_dir\u001b[0m\u001b[0;34m,\u001b[0m \u001b[0mmode\u001b[0m\u001b[0;34m=\u001b[0m\u001b[0;34m\"orthoview\"\u001b[0m\u001b[0;34m)\u001b[0m\u001b[0;34m\u001b[0m\u001b[0;34m\u001b[0m\u001b[0m\n",
      "\u001b[0;32m~/anaconda3/envs/MEG/lib/python3.8/site-packages/nilearn/plotting/img_plotting.py\u001b[0m in \u001b[0;36mplot_anat\u001b[0;34m(anat_img, cut_coords, output_file, display_mode, figure, axes, title, annotate, threshold, draw_cross, black_bg, dim, cmap, vmin, vmax, **kwargs)\u001b[0m\n\u001b[1;32m    541\u001b[0m         \u001b[0mvmax\u001b[0m \u001b[0;34m=\u001b[0m \u001b[0manat_vmax\u001b[0m\u001b[0;34m\u001b[0m\u001b[0;34m\u001b[0m\u001b[0m\n\u001b[1;32m    542\u001b[0m \u001b[0;34m\u001b[0m\u001b[0m\n\u001b[0;32m--> 543\u001b[0;31m     display = plot_img(anat_img, cut_coords=cut_coords,\n\u001b[0m\u001b[1;32m    544\u001b[0m                        \u001b[0moutput_file\u001b[0m\u001b[0;34m=\u001b[0m\u001b[0moutput_file\u001b[0m\u001b[0;34m,\u001b[0m \u001b[0mdisplay_mode\u001b[0m\u001b[0;34m=\u001b[0m\u001b[0mdisplay_mode\u001b[0m\u001b[0;34m,\u001b[0m\u001b[0;34m\u001b[0m\u001b[0;34m\u001b[0m\u001b[0m\n\u001b[1;32m    545\u001b[0m                        \u001b[0mfigure\u001b[0m\u001b[0;34m=\u001b[0m\u001b[0mfigure\u001b[0m\u001b[0;34m,\u001b[0m \u001b[0maxes\u001b[0m\u001b[0;34m=\u001b[0m\u001b[0maxes\u001b[0m\u001b[0;34m,\u001b[0m \u001b[0mtitle\u001b[0m\u001b[0;34m=\u001b[0m\u001b[0mtitle\u001b[0m\u001b[0;34m,\u001b[0m\u001b[0;34m\u001b[0m\u001b[0;34m\u001b[0m\u001b[0m\n",
      "\u001b[0;32m~/anaconda3/envs/MEG/lib/python3.8/site-packages/nilearn/plotting/img_plotting.py\u001b[0m in \u001b[0;36mplot_img\u001b[0;34m(img, cut_coords, output_file, display_mode, figure, axes, title, threshold, annotate, draw_cross, black_bg, colorbar, resampling_interpolation, bg_img, vmin, vmax, **kwargs)\u001b[0m\n\u001b[1;32m    305\u001b[0m             \u001b[0mExtra\u001b[0m \u001b[0mkeyword\u001b[0m \u001b[0marguments\u001b[0m \u001b[0mpassed\u001b[0m \u001b[0mto\u001b[0m \u001b[0mmatplotlib\u001b[0m\u001b[0;34m.\u001b[0m\u001b[0mpyplot\u001b[0m\u001b[0;34m.\u001b[0m\u001b[0mimshow\u001b[0m\u001b[0;34m\u001b[0m\u001b[0;34m\u001b[0m\u001b[0m\n\u001b[1;32m    306\u001b[0m     \"\"\"  # noqa: E501\n\u001b[0;32m--> 307\u001b[0;31m     display = _plot_img_with_bg(\n\u001b[0m\u001b[1;32m    308\u001b[0m         \u001b[0mimg\u001b[0m\u001b[0;34m,\u001b[0m \u001b[0mcut_coords\u001b[0m\u001b[0;34m=\u001b[0m\u001b[0mcut_coords\u001b[0m\u001b[0;34m,\u001b[0m\u001b[0;34m\u001b[0m\u001b[0;34m\u001b[0m\u001b[0m\n\u001b[1;32m    309\u001b[0m         \u001b[0moutput_file\u001b[0m\u001b[0;34m=\u001b[0m\u001b[0moutput_file\u001b[0m\u001b[0;34m,\u001b[0m \u001b[0mdisplay_mode\u001b[0m\u001b[0;34m=\u001b[0m\u001b[0mdisplay_mode\u001b[0m\u001b[0;34m,\u001b[0m\u001b[0;34m\u001b[0m\u001b[0;34m\u001b[0m\u001b[0m\n",
      "\u001b[0;32m~/anaconda3/envs/MEG/lib/python3.8/site-packages/nilearn/plotting/img_plotting.py\u001b[0m in \u001b[0;36m_plot_img_with_bg\u001b[0;34m(img, bg_img, cut_coords, output_file, display_mode, colorbar, figure, axes, title, threshold, annotate, draw_cross, black_bg, vmin, vmax, bg_vmin, bg_vmax, interpolation, display_factory, cbar_vmin, cbar_vmax, brain_color, **kwargs)\u001b[0m\n\u001b[1;32m    170\u001b[0m         \u001b[0mimg\u001b[0m \u001b[0;34m=\u001b[0m \u001b[0mnew_img_like\u001b[0m\u001b[0;34m(\u001b[0m\u001b[0mimg\u001b[0m\u001b[0;34m,\u001b[0m \u001b[0mas_ndarray\u001b[0m\u001b[0;34m(\u001b[0m\u001b[0mdata\u001b[0m\u001b[0;34m)\u001b[0m\u001b[0;34m,\u001b[0m \u001b[0maffine\u001b[0m\u001b[0;34m)\u001b[0m\u001b[0;34m\u001b[0m\u001b[0;34m\u001b[0m\u001b[0m\n\u001b[1;32m    171\u001b[0m \u001b[0;34m\u001b[0m\u001b[0m\n\u001b[0;32m--> 172\u001b[0;31m     display = display_factory(display_mode)(\n\u001b[0m\u001b[1;32m    173\u001b[0m         \u001b[0mimg\u001b[0m\u001b[0;34m,\u001b[0m\u001b[0;34m\u001b[0m\u001b[0;34m\u001b[0m\u001b[0m\n\u001b[1;32m    174\u001b[0m         \u001b[0mthreshold\u001b[0m\u001b[0;34m=\u001b[0m\u001b[0mthreshold\u001b[0m\u001b[0;34m,\u001b[0m\u001b[0;34m\u001b[0m\u001b[0;34m\u001b[0m\u001b[0m\n",
      "\u001b[0;32m~/anaconda3/envs/MEG/lib/python3.8/site-packages/nilearn/plotting/displays.py\u001b[0m in \u001b[0;36minit_with_figure\u001b[0;34m(cls, img, threshold, cut_coords, figure, axes, black_bg, leave_space, colorbar, brain_color, **kwargs)\u001b[0m\n\u001b[1;32m    613\u001b[0m         \u001b[0;31m# People forget to turn their axis off, or to set the zorder, and\u001b[0m\u001b[0;34m\u001b[0m\u001b[0;34m\u001b[0m\u001b[0;34m\u001b[0m\u001b[0m\n\u001b[1;32m    614\u001b[0m         \u001b[0;31m# then they cannot see their slicer\u001b[0m\u001b[0;34m\u001b[0m\u001b[0;34m\u001b[0m\u001b[0;34m\u001b[0m\u001b[0m\n\u001b[0;32m--> 615\u001b[0;31m         \u001b[0maxes\u001b[0m\u001b[0;34m.\u001b[0m\u001b[0maxis\u001b[0m\u001b[0;34m(\u001b[0m\u001b[0;34m'off'\u001b[0m\u001b[0;34m)\u001b[0m\u001b[0;34m\u001b[0m\u001b[0;34m\u001b[0m\u001b[0m\n\u001b[0m\u001b[1;32m    616\u001b[0m         \u001b[0;32mreturn\u001b[0m \u001b[0mcls\u001b[0m\u001b[0;34m(\u001b[0m\u001b[0mcut_coords\u001b[0m\u001b[0;34m,\u001b[0m \u001b[0maxes\u001b[0m\u001b[0;34m,\u001b[0m \u001b[0mblack_bg\u001b[0m\u001b[0;34m,\u001b[0m \u001b[0mbrain_color\u001b[0m\u001b[0;34m,\u001b[0m \u001b[0;34m**\u001b[0m\u001b[0mkwargs\u001b[0m\u001b[0;34m)\u001b[0m\u001b[0;34m\u001b[0m\u001b[0;34m\u001b[0m\u001b[0m\n\u001b[1;32m    617\u001b[0m \u001b[0;34m\u001b[0m\u001b[0m\n",
      "\u001b[0;31mAttributeError\u001b[0m: 'numpy.ndarray' object has no attribute 'axis'"
     ]
    },
    {
     "data": {
      "image/png": "[encoded data removed]",
      "text/plain": [
       "<Figure size 432x288 with 4 Axes>"
      ]
     },
     "metadata": {
      "needs_background": "light"
     },
     "output_type": "display_data"
    },
    {
     "data": {
      "text/plain": [
       "<Figure size 475.2x187.2 with 0 Axes>"
      ]
     },
     "metadata": {},
     "output_type": "display_data"
    }
   ],
   "source": [
    "for m in source_loc_methods:\n",
    "    stc_name = \"stc_\" + m + \"_\" + eventname\n",
    "    stc_name = 'stc_' + m\n",
    "    for start, stop in dip_times.values():\n",
    "        dip_epoch = e.copy().crop(start, stop).pick('meg')\n",
    "        ecd = mne.fit_dipole(dip_epoch, noise_cov, bem_sol, trans=trans_file)[0]\n",
    "        best_idx = np.argmax(ecd.gof)\n",
    "        best_time = ecd.times[best_idx]\n",
    "        trans = mne.read_trans(trans_file)\n",
    "        mri_pos = mne.head_to_mri(ecd.pos, mri_head_t=trans, subject=subj, subjects_dir=subjects_dir)\n",
    "        t1_file_name = os.path.join(subjects_dir, subj, 'mri', 'T1.mgz')\n",
    "        stoptime = str(abs(int(stop*1000)))\n",
    "        if stoptime == \"5\":\n",
    "            stoptime = \"05\"\n",
    "        title = str(eventname + ' - ECD @ minus ' + stoptime + ' ms')\n",
    "\n",
    "        # visualization\n",
    "        \n",
    "        fig, axes = plt.subplots(nrows=2, ncols=2,\n",
    "                                    gridspec_kw=dict(width_ratios=[3, 1],\n",
    "                                    top=0.85))\n",
    "        fig.suptitle(f\"{eventname} - Equivalent current dipole model - minus {stoptime} ms\")\n",
    "        plot_anat(t1_file_name, cut_coords=mri_pos[0], axes=axes[0])\n",
    "        fig.add_subplot(2,2,1, projection=\"3d\")\n",
    "        ecd.plot_locations(trans, subj, subjects_dir, mode=\"orthoview\")\n",
    "        t1_f_name_pic = ('img_ecd_' + eventname + '_' + '_Dipol_' + stoptime + '.png')\n",
    "        t1_f_name_pic = os.path.join(e_folder, t1_f_name_pic)\n",
    "        fig.savefig(t1_f_name_pic)\n",
    "        plt.close(\"all\")"
   ]
  },
  {
   "cell_type": "code",
   "execution_count": null,
   "metadata": {},
   "outputs": [],
   "source": []
  }
 ],
 "metadata": {
  "kernelspec": {
   "display_name": "Python 3.8.5 64-bit ('MEG': conda)",
   "language": "python",
   "name": "python38564bitmegconda94a53ce326874c66a481e63e71ecb162"
  },
  "language_info": {
   "codemirror_mode": {
    "name": "ipython",
    "version": 3
   },
   "file_extension": ".py",
   "mimetype": "text/x-python",
   "name": "python",
   "nbconvert_exporter": "python",
   "pygments_lexer": "ipython3",
   "version": "3.8.5"
  }
 },
 "nbformat": 4,
 "nbformat_minor": 4
}
