{
 "cells": [
  {
   "cell_type": "code",
   "execution_count": 1,
   "metadata": {},
   "outputs": [],
   "source": [
    "import numpy as np\n",
    "freq_bands = dict(                #the frequency bands of interest for the analysis\n",
    "                delta=(1, 4), \n",
    "                theta=(4, 8), \n",
    "                alpha=(8, 12), \n",
    "                beta=(13, 29), \n",
    "                gamma=(30, 80))"
   ]
  },
  {
   "cell_type": "code",
   "execution_count": 2,
   "metadata": {},
   "outputs": [],
   "source": [
    "log_freq_bands = dict()"
   ]
  },
  {
   "cell_type": "code",
   "execution_count": 15,
   "metadata": {},
   "outputs": [],
   "source": [
    "for band in freq_bands:\n",
    "    lower, upper = freq_bands[band]\n",
    "    band_range = upper - lower +1\n",
    "    log_freq_bands[band] = (np.logspace(np.log10(lower), np.log10(upper), band_range))"
   ]
  },
  {
   "cell_type": "code",
   "execution_count": 16,
   "metadata": {},
   "outputs": [
    {
     "data": {
      "text/plain": [
       "{'delta': array([1.        , 1.58740105, 2.5198421 , 4.        ]),\n",
       " 'theta': array([5.        , 5.91607978, 7.        ]),\n",
       " 'alpha': array([ 8.        ,  8.85345536,  9.79795897, 10.84322404, 12.        ]),\n",
       " 'beta': array([13.        , 13.66852866, 14.37143659, 15.11049176, 15.88755305,\n",
       "        16.70457494, 17.5636124 , 18.46682611, 19.41648784, 20.41498619,\n",
       "        21.4648326 , 22.56866765, 23.72926774, 24.94955201, 26.23258974,\n",
       "        27.58160805, 29.        ]),\n",
       " 'gamma': array([30.        , 30.59430764, 31.20038866, 31.8184763 , 32.44880842,\n",
       "        33.09162757, 33.74718114, 34.41572139, 35.09750559, 35.79279611,\n",
       "        36.50186051, 37.22497166, 37.96240783, 38.71445279, 39.48139596,\n",
       "        40.26353246, 41.06116329, 41.87459539, 42.70414178, 43.5501217 ,\n",
       "        44.4128607 , 45.29269078, 46.18995051, 47.10498519, 48.03814694,\n",
       "        48.98979486, 49.96029516, 50.95002133, 51.95935422, 52.98868226,\n",
       "        54.03840154, 55.10891603, 56.20063769, 57.31398663, 58.44939129,\n",
       "        59.60728861, 60.78812418, 61.99235239, 63.22043667, 64.47284962,\n",
       "        65.75007318, 67.05259887, 68.38092792, 69.73557151, 71.11705094,\n",
       "        72.52589782, 73.96265432, 75.42787333, 76.9221187 , 78.44596545,\n",
       "        80.        ])}"
      ]
     },
     "execution_count": 16,
     "metadata": {},
     "output_type": "execute_result"
    }
   ],
   "source": [
    "log_freq_bands"
   ]
  },
  {
   "cell_type": "code",
   "execution_count": 1,
   "metadata": {},
   "outputs": [
    {
     "output_type": "stream",
     "name": "stdout",
     "text": [
      "Reading /home/idrael/DATA/MEG/BIDS_clinic/derivatives/sub-BF28011991/meg/BF28011991_Block1_trans_tsss-eve-epo.fif ...\n",
      "    Found the data of interest:\n",
      "        t =   -2000.00 ...    2000.00 ms\n",
      "        0 CTF compensation matrices available\n",
      "Not setting metadata\n",
      "Not setting metadata\n",
      "11 matching events found\n",
      "Applying baseline correction (mode: mean)\n",
      "0 projection items activated\n"
     ]
    }
   ],
   "source": [
    "import mne\n",
    "rawfile = \"/home/idrael/DATA/MEG/BIDS_clinic/derivatives/sub-BF28011991/meg/BF28011991_Block1_trans_tsss-eve-epo.fif\"\n",
    "epochs = mne.read_epochs(rawfile, preload= True)"
   ]
  },
  {
   "cell_type": "code",
   "execution_count": 3,
   "metadata": {},
   "outputs": [
    {
     "output_type": "execute_result",
     "data": {
      "text/plain": [
       "{'ignore_me': 0, 'AAA': 1, 'Gr_1': 2, 'Gr_2': 3}"
      ]
     },
     "metadata": {},
     "execution_count": 3
    }
   ],
   "source": [
    "events = epochs.event_id\n",
    "events"
   ]
  },
  {
   "cell_type": "code",
   "execution_count": 4,
   "metadata": {},
   "outputs": [],
   "source": [
    "gr_1 = epochs[\"Gr_1\"].load_data().average"
   ]
  },
  {
   "cell_type": "code",
   "execution_count": 8,
   "metadata": {},
   "outputs": [
    {
     "output_type": "stream",
     "name": "stdout",
     "text": [
      "ignore_me\nAAA\nGr_1\nGr_2\n"
     ]
    }
   ],
   "source": [
    "for event in events.keys():\n",
    "    print(event)"
   ]
  },
  {
   "cell_type": "code",
   "execution_count": null,
   "metadata": {},
   "outputs": [],
   "source": []
  }
 ],
 "metadata": {
  "kernelspec": {
   "display_name": "Python 3.8.5 64-bit ('MEG': conda)",
   "language": "python",
   "name": "python38564bitmegconda94a53ce326874c66a481e63e71ecb162"
  },
  "language_info": {
   "codemirror_mode": {
    "name": "ipython",
    "version": 3
   },
   "file_extension": ".py",
   "mimetype": "text/x-python",
   "name": "python",
   "nbconvert_exporter": "python",
   "pygments_lexer": "ipython3",
   "version": "3.8.5-final"
  }
 },
 "nbformat": 4,
 "nbformat_minor": 4
}