{
 "cells": [
  {
   "cell_type": "markdown",
   "metadata": {},
   "source": [
    "# Source localization pipeline - Stage1\n",
    "- freesurfer\n",
    "- .fif-File preparations\n",
    " \n",
    " \n",
    "\n",
    "\n",
    "#### Author\n",
    "Rudi Kreidenhuber <Rudi.Kreidenhuber@gmail.com>\n",
    "#### License\n",
    "BSD (3-clause)"
   ]
  },
  {
   "cell_type": "markdown",
   "metadata": {},
   "source": [
    "## Subject selection"
   ]
  },
  {
   "cell_type": "code",
   "execution_count": 1,
   "metadata": {},
   "outputs": [
    {
     "name": "stdout",
     "output_type": "stream",
     "text": [
      "\n",
      "\n",
      "The following patients/ subjects are available:\n"
     ]
    },
    {
     "data": {
      "application/vnd.jupyter.widget-view+json": {
       "model_id": "da22e80ed0ff4109a409cbed6c973ae1",
       "version_major": 2,
       "version_minor": 0
      },
      "text/plain": [
       "VBox(children=(Dropdown(description='Subject: ', layout=Layout(width='auto'), options=('KF12082010', 'processe…"
      ]
     },
     "metadata": {},
     "output_type": "display_data"
    }
   ],
   "source": [
    "\n",
    "from src import SubjectDropDowner\n",
    "import os\n",
    "import glob\n",
    "import mne\n",
    "\n",
    "input_dir = \"../../MEG_playground/\"\n",
    "\n",
    "def get_subject_list(input_dir = input_dir) -> list:\n",
    "    analist = glob.glob(os.path.join(input_dir, \"*\"))\n",
    "    analist = [os.path.basename(f) for f in analist if os.path.isdir(f)]\n",
    "    fiflist = [os.path.basename(f) for f in glob.glob(os.path.join(input_dir, \"*trans_tsss.fif\"))]\n",
    "    fiflist = [f.split(\"_\")[0] for f in fiflist]\n",
    "    subjectlist = set(fiflist + analist)\n",
    "    subjectlist = sorted([f for f in subjectlist])\n",
    "    return subjectlist\n",
    "\n",
    "subjectlist = get_subject_list()\n",
    "\n",
    "dl = SubjectDropDowner.SubjectDropDowner(subjectlist)\n",
    "drop_menu = dl.create_subject_dropdown_widget()\n",
    "print(f\"\\n\\nThe following patients/ subjects are available:\")\n",
    "drop_menu"
   ]
  },
  {
   "cell_type": "markdown",
   "metadata": {},
   "source": [
    "# .fif - File preprocessing\n",
    "- Files are being filtered, downsampled and concatenated\n",
    "- Files without head transposition and artifact correction via tsss are omitted"
   ]
  },
  {
   "cell_type": "code",
   "execution_count": 3,
   "metadata": {},
   "outputs": [
    {
     "name": "stdout",
     "output_type": "stream",
     "text": [
      "The following raw files were found for preprocessing:\n",
      "['../../MEG_playground\\\\KF12082010_block1_trans_tsss.fif', '../../MEG_playground\\\\KF12082010_block2_trans_tsss.fif']\n",
      "Writing c:\\Users\\rudik\\git\\SourceLoc\\..\\..\\MEG_playground\\processed\\sub-KF12082010_prepped.fif\n"
     ]
    },
    {
     "name": "stderr",
     "output_type": "stream",
     "text": [
      "C:\\Users\\rudik\\AppData\\Local\\Temp\\ipykernel_9848\\943379367.py:54: RuntimeWarning: This filename (c:\\Users\\rudik\\git\\SourceLoc\\..\\..\\MEG_playground\\processed\\sub-KF12082010_prepped.fif) does not conform to MNE naming conventions. All raw files should end with raw.fif, raw_sss.fif, raw_tsss.fif, _meg.fif, _eeg.fif, _ieeg.fif, raw.fif.gz, raw_sss.fif.gz, raw_tsss.fif.gz, _meg.fif.gz, _eeg.fif.gz or _ieeg.fif.gz\n",
      "  raw.save(target_file, overwrite=False)\n"
     ]
    },
    {
     "name": "stdout",
     "output_type": "stream",
     "text": [
      "Closing c:\\Users\\rudik\\git\\SourceLoc\\..\\..\\MEG_playground\\processed\\sub-KF12082010_prepped.fif\n",
      "[done]\n"
     ]
    }
   ],
   "source": [
    "subject = dl.get_subject_dropdown().value\n",
    "\n",
    "if not subject.startswith(\"sub-\"):\n",
    "    ject = subject\n",
    "    subject = \"sub-\" + subject\n",
    "else:\n",
    "    subject = subject\n",
    "    ject = subject.replace(\"sub-\", \"\")\n",
    "\n",
    "if not os.path.isdir(os.path.join(input_dir, \"processed\")):\n",
    "    os.mkdir(os.path.join(input_dir, \"processed\"))\n",
    "\n",
    "output_dir = os.path.join(input_dir, \"processed\")\n",
    "target_file = os.path.join(output_dir, str(subject + \"_prepped.fif\"))\n",
    "\n",
    "# Make sure we haven't already processed this subject\n",
    "if os.path.isfile(target_file):\n",
    "    print(f\"\\n\\nThe file {target_file} already exists, aborting.\\n\\n\")\n",
    "    raise(FileExistsError)\n",
    "\n",
    "# Configuration \n",
    "# Filter and resample\n",
    "l_freq: float = 0.1         # lower pass-band edge\n",
    "h_freq: float = 50.         # higher pass-band edge\n",
    "fir_design: str = \"firwin\"  # Filter design method\n",
    "s_freq: int = 300           # target sampling frequency\n",
    "# ECG artifact correction\n",
    "ecg_channel = \"ECG003\"\n",
    "n_grad: int =1\n",
    "n_mag: int = 1\n",
    "n_eeg: int = 1\n",
    "\n",
    "\n",
    "# Get all .fif files of the subject\n",
    "raws = glob.glob(input_dir + \"*_trans_tsss.fif\")\n",
    "raws = [f for f in raws if ject in f]\n",
    "print(f\"The following raw files were found for preprocessing:\\n{raws}\")\n",
    "\"\"\"\n",
    "prep_raws = []\n",
    "for r in raws:\n",
    "    raw = mne.io.read_raw(r)\n",
    "    # filter\n",
    "    raw.load_data()\n",
    "    raw = raw.filter(l_freq, h_freq, fir_design=fir_design)\n",
    "    # downsample\n",
    "    if not raw.info[\"sfreq\"] == s_freq:\n",
    "        raw = raw.resample(s_freq)\n",
    "    prep_raws.append(raw)\n",
    "    del raw\n",
    "\"\"\"\n",
    "# concatenate\n",
    "try:\n",
    "    raw = mne.concatenate_raws(prep_raws)\n",
    "    raw.save(target_file, overwrite=False)\n",
    "except Exception as e:\n",
    "    print(f\"\\n\\nSomething went wrong, when trying to concatenate the raw files:\\n\\nError: {e}\")\n",
    "    \n"
   ]
  },
  {
   "cell_type": "markdown",
   "metadata": {},
   "source": [
    "# Freesurfer and hippocampal segmentation"
   ]
  },
  {
   "cell_type": "code",
   "execution_count": null,
   "metadata": {},
   "outputs": [],
   "source": [
    "from src import Anatomist\n",
    "#from dicom2nifti import convert_directory\n",
    "\n",
    "def get_dicom_file(subject) -> str:\n",
    "    if not os.path.isdir(os.path.join(input_dir, subject)):\n",
    "        print(f\"No anatomical data found for {subject}, aborting\\n\\n\")\n",
    "        raise(FileNotFoundError)\n",
    "    else:\n",
    "        dicom_path = os.path.join(input_dir, subject, \"1*\", \"100*\", \"1*\")\n",
    "        dicom = str(glob.glob(dicom_path, recursive=True)[0])\n",
    "        \n"
   ]
  }
 ],
 "metadata": {
  "kernelspec": {
   "display_name": "Python 3 (ipykernel)",
   "language": "python",
   "name": "python3"
  },
  "language_info": {
   "codemirror_mode": {
    "name": "ipython",
    "version": 3
   },
   "file_extension": ".py",
   "mimetype": "text/x-python",
   "name": "python",
   "nbconvert_exporter": "python",
   "pygments_lexer": "ipython3",
   "version": "3.10.4"
  },
  "vscode": {
   "interpreter": {
    "hash": "efac0460eee90c397688410beb991c05e0e16af2b500d70dd2ead6bd85f721dc"
   }
  }
 },
 "nbformat": 4,
 "nbformat_minor": 4
}
